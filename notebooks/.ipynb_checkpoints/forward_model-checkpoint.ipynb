{
 "metadata": {
  "name": ""
 },
 "nbformat": 3,
 "nbformat_minor": 0,
 "worksheets": [
  {
   "cells": [
    {
     "cell_type": "markdown",
     "metadata": {},
     "source": [
      "# Forward eco-physiological modelling of $\\Delta O_{18}$ in tree rings"
     ]
    },
    {
     "cell_type": "markdown",
     "metadata": {},
     "source": [
      "I am working backward usin the excel spreadsheet as template"
     ]
    },
    {
     "cell_type": "code",
     "collapsed": false,
     "input": [],
     "language": "python",
     "metadata": {},
     "outputs": []
    },
    {
     "cell_type": "code",
     "collapsed": false,
     "input": [],
     "language": "python",
     "metadata": {},
     "outputs": []
    },
    {
     "cell_type": "code",
     "collapsed": false,
     "input": [],
     "language": "python",
     "metadata": {},
     "outputs": []
    },
    {
     "cell_type": "markdown",
     "metadata": {},
     "source": [
      "### first level "
     ]
    },
    {
     "cell_type": "code",
     "collapsed": false,
     "input": [
      "B16 = 2.644-3.206*((10^3)/K10)+1.534*((10^6)/(K10^2))"
     ],
     "language": "python",
     "metadata": {},
     "outputs": []
    },
    {
     "cell_type": "code",
     "collapsed": false,
     "input": [
      "E30 = (E23*(1-(B30*B31)))+B28"
     ],
     "language": "python",
     "metadata": {},
     "outputs": []
    },
    {
     "cell_type": "markdown",
     "metadata": {},
     "source": [
      "### output"
     ]
    },
    {
     "cell_type": "code",
     "collapsed": false,
     "input": [
      "output = ((E30/1000)*(1+(B16/1000))+(B16/1000))*1000"
     ],
     "language": "python",
     "metadata": {},
     "outputs": []
    }
   ],
   "metadata": {}
  }
 ]
}