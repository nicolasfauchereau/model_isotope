{
 "cells": [
  {
   "cell_type": "markdown",
   "metadata": {},
   "source": [
    "# Mechanistic modeling of $\\delta O_{18}$ composition in Kauri tree rings"
   ]
  },
  {
   "cell_type": "code",
   "execution_count": 42,
   "metadata": {
    "collapsed": true
   },
   "outputs": [],
   "source": [
    "from IPython.display import Image"
   ]
  },
  {
   "cell_type": "markdown",
   "metadata": {},
   "source": [
    "<dif style=\"font-size:125%\">\n",
    "\n",
    "This [IPython](www.ipython.org) notebook accompanies the paper:  \n",
    "    \n",
    "**Stable oxygen isotope signatures of early season wood in *agathis australis* (Kauri) tree-ring earlywood: Preliminary results and prospects for palaeoclimate reconstructions**\n",
    "\n",
    "By *Andrew M. Lorrey, Tom H. Brookman, Michael N. Evans, Nicolas C. Fauchereau, Margaret Barbour, Cate Macinnis-Ng, Alison Criscitiello, Greg Eisheid, Anthony M. Fowler, Travis Horton and Daniel P. Schrag*\n",
    "\n",
    "*Journal of Geophysical Research - Atmosphere*, to be submitted.\n",
    "\n",
    "The code for this model originates from an Excel file provided by Dr. Margaret Barbour, and follows the BFRE04 model, augmented with a leaf energy balance model\n",
    "\n",
    "Instructions regarding the installation of the necessary libraries and on how to run this notebook are provided in the **README.md** file, located in the main directory. \n",
    "\n",
    "All code and data is available on github at: \n",
    "\n",
    "[https://github.com/nicolasfauchereau/model_isotope](https://github.com/nicolasfauchereau/model_isotope)\n",
    "\n",
    "see diagram below, which depicts a flow chart related to Figure 3 in the text. The calculations associated with each major part of the flow chart are found in Supplementary Workbook 1.\n",
    "\n",
    "<img src='https://raw.githubusercontent.com/nicolasfauchereau/model_isotope/master/figures/Lorreyetal2015SF.jpg' width=800>\n",
    "\n",
    "<hr size=5>"
   ]
  },
  {
   "cell_type": "markdown",
   "metadata": {},
   "source": [
    "### The line below makes sure the graphics are displayed inline in the notebook "
   ]
  },
  {
   "cell_type": "code",
   "execution_count": 61,
   "metadata": {
    "collapsed": false
   },
   "outputs": [],
   "source": [
    "%matplotlib inline"
   ]
  },
  {
   "cell_type": "code",
   "execution_count": 62,
   "metadata": {
    "collapsed": false
   },
   "outputs": [],
   "source": [
    "from IPython.html.widgets import interactive, interact, fixed\n",
    "from IPython.html import widgets"
   ]
  },
  {
   "cell_type": "markdown",
   "metadata": {},
   "source": [
    "### This import the required libraries (see instructions in the README.md file)"
   ]
  },
  {
   "cell_type": "code",
   "execution_count": 63,
   "metadata": {
    "collapsed": false
   },
   "outputs": [],
   "source": [
    "import os\n",
    "from math import exp\n",
    "from itertools import product\n",
    "import numpy as np\n",
    "import pandas as pd\n",
    "from matplotlib import pyplot as plt\n",
    "from scipy.stats import zscore, pearsonr"
   ]
  },
  {
   "cell_type": "code",
   "execution_count": 64,
   "metadata": {
    "collapsed": false
   },
   "outputs": [],
   "source": [
    "from statsmodels.formula.api import ols as OLS"
   ]
  },
  {
   "cell_type": "code",
   "execution_count": 65,
   "metadata": {
    "collapsed": false
   },
   "outputs": [],
   "source": [
    "from datetime import datetime"
   ]
  },
  {
   "cell_type": "code",
   "execution_count": 66,
   "metadata": {
    "collapsed": false
   },
   "outputs": [
    {
     "name": "stdout",
     "output_type": "stream",
     "text": [
      "201504150328\n"
     ]
    }
   ],
   "source": [
    "tstamp = datetime.utcnow().strftime(\"%Y%m%d%H%S\"); print(tstamp)"
   ]
  },
  {
   "cell_type": "markdown",
   "metadata": {},
   "source": [
    "### Defines the path where to find the csv files "
   ]
  },
  {
   "cell_type": "code",
   "execution_count": 67,
   "metadata": {
    "collapsed": false
   },
   "outputs": [],
   "source": [
    "dpath = '../excel'"
   ]
  },
  {
   "cell_type": "markdown",
   "metadata": {},
   "source": [
    "### Defines the path where to save the figures"
   ]
  },
  {
   "cell_type": "code",
   "execution_count": 68,
   "metadata": {
    "collapsed": false
   },
   "outputs": [],
   "source": [
    "fpath = '../figures'"
   ]
  },
  {
   "cell_type": "markdown",
   "metadata": {},
   "source": [
    "### Below is a small function to convert degrees Celsius to Kelvin "
   ]
  },
  {
   "cell_type": "code",
   "execution_count": 69,
   "metadata": {
    "collapsed": false
   },
   "outputs": [],
   "source": [
    "def C2K(T):\n",
    "    \"\"\"\n",
    "    conversion celsius to Kelvin\n",
    "    \"\"\"\n",
    "    return T + 273.16"
   ]
  },
  {
   "cell_type": "markdown",
   "metadata": {},
   "source": [
    "<a id='Step_1'></a>"
   ]
  },
  {
   "cell_type": "markdown",
   "metadata": {},
   "source": [
    "## STEP 1: Define the parameter space of the model <hr size=5>"
   ]
  },
  {
   "cell_type": "markdown",
   "metadata": {},
   "source": [
    "<dif style=\"font-size:125%\">\n",
    "\n",
    "**Each parameter entering the calculations of $\\delta 18_{O}$ can be defined as :**  \n",
    "> + ```np.linspace(min, max, steps)``` creates ```steps``` values between ```min``` (included) and ```max``` (not included)  \n",
    "> + ```[value,]``` A real value (e.g. 0.015), brackets around and comma **are importants**  \n",
    "> + ```[value1,value2,...]``` A list of specific real values to test \n",
    "\n",
    "Commented lines start with ```#``` (the keyboard shortcut ```<ctrl-/>``` (```<command-/>``` on mac) toggles commented lines)\n",
    "\n",
    "A brief description of each parameter is provided below: \n",
    "\n",
    "+ **gs_l** is the stomatal conductance \n",
    "+ **leaf_width_l** is the leaf width, accepted values for New Zealand kauri is 0.015 m.\n",
    "+ **d_source_H2O_l** is composition of source water, determined using OIPC\n",
    "+ **fract_through_stomata_l** is the fractionation factor for diffusion through air (32 per mille; Cappa et al. 2003)\n",
    "+ **fract_through_boundary_layer_l** is the fractionation factor for diffusion through the boundary layer (21 per mille; Cernusak et al. 2003)\n",
    "+ **eff_length_l** is the length over which the Peclet effect is evident (m); typically this length is tortuous and is orders of magnitude greater than the actual distance between central vein and evaporating sites (following Barbour and Farquhar 2004)\n",
    "+ **C_l** is the molar density of water (55.5 x 10^3 mol m-3)\n",
    "+ **C_O_fract_l** is the fractionation factor between carbonyl oxygen and water (27 per mille) \n",
    "+ **Dcel_Dom_l** is Delta cellulose - Delta organic matter\n",
    "+ **prop_exc_l** is the proportion of exchangeable oxygen in cellulose formed from simple carbohydrates\n",
    "+ **prop_Xylem_l** is the proportion of unenriched (source) water in developing cell\n",
    "+ **PAR_l** is the **P**hotosynthetic **A**ctive **R**adiation, in units of $\\mu mol.m^{-2}.s^{-1}$\n"
   ]
  },
  {
   "cell_type": "code",
   "execution_count": 70,
   "metadata": {
    "collapsed": false
   },
   "outputs": [],
   "source": [
    "from collections import OrderedDict\n",
    "dict_params = OrderedDict()\n",
    "dict_params['gs'] = (0.13)  \n",
    "dict_params['leaf_width'] = 0.015\n",
    "dict_params['d_source_H2O'] = -4.3\n",
    "dict_params['fract_through_stomata'] = 32.0\n",
    "dict_params['fract_through_boundary_layer'] = 21.0\n",
    "# **eff_length** is the effective length at a minimum is double the average distance for a \n",
    "# stomata to the central vein. For kauri, the avg distance is 0.0035m.  \n",
    "# Thus, the minimum for this variable is about 0.0077m.  \n",
    "# Untested theory however suggests at least 2 orders of magnitude for the avg distance, so 0.35m\n",
    "# eff_length_l = [0.0077,]\n",
    "# eff_length_l = np.linspace(0.0035,2,10, endpoint=True)\n",
    "# eff_length_l = [0.045,] #! EFFECTIVE LENGTH IS NOW CALCULATED AS A FUNCTION OF E (transpiration) \n",
    "# following Song et al. 2013, sans pine data\n",
    "dict_params['C'] = 5.55e4\n",
    "#### Constants for calculations of $\\Delta$ cellulose and $\\Delta$ leaf\n",
    "#dict_params['C_O_fract'] = (22.5,29.5)\n",
    "dict_params['Dcel_Dom'] = 9.\n",
    "dict_params['prop_exc'] = (0.15, 0.65)\n",
    "dict_params['prop_Xylem'] = (0.85, 1.00)\n",
    "#dict_params['PAR'] = (545)"
   ]
  },
  {
   "cell_type": "markdown",
   "metadata": {},
   "source": [
    "### this is for the widget machinery"
   ]
  },
  {
   "cell_type": "code",
   "execution_count": 71,
   "metadata": {
    "collapsed": false
   },
   "outputs": [],
   "source": [
    "for k in dict_params.keys(): \n",
    "    if isinstance(dict_params[k], float): \n",
    "        dict_params[k] = fixed(dict_params[k])"
   ]
  },
  {
   "cell_type": "markdown",
   "metadata": {},
   "source": [
    "### Reads the inputs (relative humidity, air temperature, pressure, windspeed) from the csv file"
   ]
  },
  {
   "cell_type": "code",
   "execution_count": 72,
   "metadata": {
    "collapsed": false
   },
   "outputs": [],
   "source": [
    "inputs = pd.read_csv(os.path.join(dpath,'inputs.csv'), index_col = 0)"
   ]
  },
  {
   "cell_type": "code",
   "execution_count": 73,
   "metadata": {
    "collapsed": false,
    "scrolled": true
   },
   "outputs": [
    {
     "data": {
      "text/html": [
       "<div style=\"max-height:1000px;max-width:1500px;overflow:auto;\">\n",
       "<table border=\"1\" class=\"dataframe\">\n",
       "  <thead>\n",
       "    <tr style=\"text-align: right;\">\n",
       "      <th></th>\n",
       "      <th>Rh</th>\n",
       "      <th>Air T</th>\n",
       "      <th>Pressure</th>\n",
       "      <th>windspeed</th>\n",
       "      <th>PAR</th>\n",
       "      <th>MZ3 cont</th>\n",
       "    </tr>\n",
       "    <tr>\n",
       "      <th>Year</th>\n",
       "      <th></th>\n",
       "      <th></th>\n",
       "      <th></th>\n",
       "      <th></th>\n",
       "      <th></th>\n",
       "      <th></th>\n",
       "    </tr>\n",
       "  </thead>\n",
       "  <tbody>\n",
       "    <tr>\n",
       "      <th>2009</th>\n",
       "      <td> 84.40</td>\n",
       "      <td> 14.27</td>\n",
       "      <td> 1015.3</td>\n",
       "      <td> 5.4</td>\n",
       "      <td> 1135</td>\n",
       "      <td> 36.000000</td>\n",
       "    </tr>\n",
       "    <tr>\n",
       "      <th>2008</th>\n",
       "      <td> 79.80</td>\n",
       "      <td> 14.63</td>\n",
       "      <td> 1018.3</td>\n",
       "      <td> 5.3</td>\n",
       "      <td> 1080</td>\n",
       "      <td> -2.000000</td>\n",
       "    </tr>\n",
       "    <tr>\n",
       "      <th>2007</th>\n",
       "      <td> 78.40</td>\n",
       "      <td> 14.43</td>\n",
       "      <td> 1017.1</td>\n",
       "      <td> 4.9</td>\n",
       "      <td> 1041</td>\n",
       "      <td>  1.000000</td>\n",
       "    </tr>\n",
       "    <tr>\n",
       "      <th>2006</th>\n",
       "      <td> 81.25</td>\n",
       "      <td> 14.80</td>\n",
       "      <td> 1018.7</td>\n",
       "      <td> 5.4</td>\n",
       "      <td> 1060</td>\n",
       "      <td> 25.666667</td>\n",
       "    </tr>\n",
       "    <tr>\n",
       "      <th>2005</th>\n",
       "      <td> 81.30</td>\n",
       "      <td> 15.07</td>\n",
       "      <td> 1016.2</td>\n",
       "      <td> 4.9</td>\n",
       "      <td> 1094</td>\n",
       "      <td> -3.333333</td>\n",
       "    </tr>\n",
       "  </tbody>\n",
       "</table>\n",
       "</div>"
      ],
      "text/plain": [
       "         Rh  Air T  Pressure  windspeed   PAR   MZ3 cont\n",
       "Year                                                    \n",
       "2009  84.40  14.27    1015.3        5.4  1135  36.000000\n",
       "2008  79.80  14.63    1018.3        5.3  1080  -2.000000\n",
       "2007  78.40  14.43    1017.1        4.9  1041   1.000000\n",
       "2006  81.25  14.80    1018.7        5.4  1060  25.666667\n",
       "2005  81.30  15.07    1016.2        4.9  1094  -3.333333"
      ]
     },
     "execution_count": 73,
     "metadata": {},
     "output_type": "execute_result"
    }
   ],
   "source": [
    "inputs.head()"
   ]
  },
  {
   "cell_type": "markdown",
   "metadata": {},
   "source": [
    "### Reads the ```observed``` values of $\\delta 18_{0}$ "
   ]
  },
  {
   "cell_type": "code",
   "execution_count": 74,
   "metadata": {
    "collapsed": false
   },
   "outputs": [],
   "source": [
    "obs = pd.read_csv(os.path.join(dpath,'observed_tree_rings.csv'), index_col=0)"
   ]
  },
  {
   "cell_type": "code",
   "execution_count": 75,
   "metadata": {
    "collapsed": false
   },
   "outputs": [
    {
     "data": {
      "text/html": [
       "<div style=\"max-height:1000px;max-width:1500px;overflow:auto;\">\n",
       "<table border=\"1\" class=\"dataframe\">\n",
       "  <thead>\n",
       "    <tr style=\"text-align: right;\">\n",
       "      <th></th>\n",
       "      <th>av</th>\n",
       "      <th>std</th>\n",
       "    </tr>\n",
       "    <tr>\n",
       "      <th>year</th>\n",
       "      <th></th>\n",
       "      <th></th>\n",
       "    </tr>\n",
       "  </thead>\n",
       "  <tbody>\n",
       "    <tr>\n",
       "      <th>2009</th>\n",
       "      <td>-0.964275</td>\n",
       "      <td>-1.4173</td>\n",
       "    </tr>\n",
       "    <tr>\n",
       "      <th>2008</th>\n",
       "      <td> 1.130145</td>\n",
       "      <td>-1.3576</td>\n",
       "    </tr>\n",
       "    <tr>\n",
       "      <th>2007</th>\n",
       "      <td> 0.957118</td>\n",
       "      <td>-1.2979</td>\n",
       "    </tr>\n",
       "    <tr>\n",
       "      <th>2006</th>\n",
       "      <td>-1.459511</td>\n",
       "      <td>-1.2382</td>\n",
       "    </tr>\n",
       "    <tr>\n",
       "      <th>2005</th>\n",
       "      <td>-0.324430</td>\n",
       "      <td>-1.1785</td>\n",
       "    </tr>\n",
       "  </tbody>\n",
       "</table>\n",
       "</div>"
      ],
      "text/plain": [
       "            av     std\n",
       "year                  \n",
       "2009 -0.964275 -1.4173\n",
       "2008  1.130145 -1.3576\n",
       "2007  0.957118 -1.2979\n",
       "2006 -1.459511 -1.2382\n",
       "2005 -0.324430 -1.1785"
      ]
     },
     "execution_count": 75,
     "metadata": {},
     "output_type": "execute_result"
    }
   ],
   "source": [
    "obs.head()"
   ]
  },
  {
   "cell_type": "markdown",
   "metadata": {},
   "source": [
    "### Multiply by the standard deviation and add the mean to get the $\\delta 18_{O}$ values"
   ]
  },
  {
   "cell_type": "code",
   "execution_count": 76,
   "metadata": {
    "collapsed": false
   },
   "outputs": [],
   "source": [
    "obs['raw'] = (obs['av']*1.73) + 32.06"
   ]
  },
  {
   "cell_type": "markdown",
   "metadata": {},
   "source": [
    "### define the main function to run the model and create the plots"
   ]
  },
  {
   "cell_type": "code",
   "execution_count": 77,
   "metadata": {
    "collapsed": false
   },
   "outputs": [],
   "source": [
    "# %load model.py\n",
    "def run_model(df, obs, **kwargs):\n",
    "    for key in kwargs.keys():\n",
    "        exec(key + \" = kwargs['\" + key + \"']\")\n",
    "    \n",
    "    transpiration_cat = []\n",
    "\n",
    "    res = []\n",
    "\n",
    "    for index in xrange(len(df)): \n",
    "\n",
    "        ### ===========================================================================\n",
    "        ### loops over the inputs \n",
    "        #rh, airtemp, pressure, windspeed, PAR = df.irow(index)\n",
    "        rh, airtemp, pressure, windspeed, PAR, MZ3 = df.irow(index)\n",
    "\n",
    "        ### ===========================================================================\n",
    "        ### Energy balance calculations \n",
    "\n",
    "        r_times_b = 3.8 * (leaf_width**0.25)*(windspeed**(-0.5))\n",
    "\n",
    "        #rb = 0.89 * r_times_b\n",
    "        rb = 1.78 * r_times_b\n",
    "\n",
    "        #gs = (1/(0.000442/windspeed) * ((1/(rh/100))-1) - rb)\n",
    "\n",
    "        rs = 1. / gs\n",
    "\n",
    "        gr = (4*0.98*(0.000000056703)*(C2K(airtemp)**3))/(29.2)\n",
    "\n",
    "        rBH = 1./((1./r_times_b)+gr)\n",
    "\n",
    "        Qtot = (PAR/4.6)*2\n",
    "\n",
    "        Qabs = 0.5 * Qtot\n",
    "\n",
    "        ### ===========================================================================\n",
    "        ### Calculating $\\epsilon$\n",
    "\n",
    "        lesstemp = airtemp - 1.\n",
    "\n",
    "        estemp = (6.13753 * exp(lesstemp * ((18.564 - (lesstemp/254.4)))/(lesstemp +255.57)))*100\n",
    "\n",
    "        lesstemp_K = C2K(lesstemp)\n",
    "\n",
    "        s = (((6.13753 * exp(airtemp * ((18.564 - (airtemp/254.4)))/(airtemp +255.57))))-estemp)\\\n",
    "        /(C2K(airtemp)-C2K(lesstemp))\n",
    "\n",
    "        smbar = 6.13753*(((airtemp+255.7)*(18.564 - (2*airtemp/254.4)) - airtemp*(18.564 - \\\n",
    "                            (airtemp/254.4)))/((airtemp+255.57)**2))*(exp(airtemp*(18.564 - \\\n",
    "                                                        (airtemp/254.4))/(airtemp + 255.57)))\n",
    "\n",
    "        epsilon = (smbar*44012)/(29.2*(pressure))\n",
    "\n",
    "        ### ===========================================================================\n",
    "        ### Calculating $\\frac{EA}{EI}$\n",
    "\n",
    "        ea = (rh / 100) * (6.13753 * exp(airtemp * ((18.564 - (airtemp/254.4)))/(airtemp +255.57)))\n",
    "\n",
    "        es = (6.13753 * exp(airtemp * ((18.564 - (airtemp/254.4)))/(airtemp +255.57)))\n",
    "\n",
    "        D = (((6.13753 * exp(airtemp * ((18.564 - (airtemp/254.4)))\\\n",
    "                             /(airtemp +255.57))))-ea)/pressure\n",
    "\n",
    "        temp_diff = (rBH*((Qabs*(rs+rb))-(44012*D)))/(29.2*(rs+rb+(epsilon*rBH)))\n",
    "\n",
    "        leaf_temp = airtemp + temp_diff\n",
    "\n",
    "        ei = (6.13753 * exp(leaf_temp * ((18.564 - (leaf_temp/254.4)))\\\n",
    "                            /(leaf_temp +255.57)))\n",
    "\n",
    "        leaf_temp_K = C2K(leaf_temp)\n",
    "\n",
    "        ea_ei = ea / ei\n",
    "\n",
    "        ### ===========================================================================\n",
    "        ### Calculating transpiration\n",
    "\n",
    "        transpiration = (epsilon * rBH * Qabs / 44012. + D) \\\n",
    "        / (rs + rb + epsilon * rBH)\n",
    "\n",
    "        ### ===========================================================================\n",
    "        ### calculates Effective Length (eff_length) as a function of transpiration\n",
    "        #L =(2.36*10^-5)*E^-1.2\n",
    "        eff_length = (4.93*10**(-5)) * pow(transpiration, -0.663)\n",
    "        #eff_length = (2.36*10**(-5)) * pow(transpiration, -1.2)\n",
    "        #eff_length = (-0.18) * (transpiration) + 0.021\n",
    "        #eff_length = ((0.0429 * transpiration**6) - (1.1799 * transpiration**5) + (12.984 * transpiration**4) - (73.184 * transpiration**3) + (224 * transpiration**2) - (358.84 * transpiration) + 264.06)\n",
    "\n",
    "#Song, X, Barbour, M.M., Farquhar, G.D., Vann, D.R., Helliker, B.R. 2013. Transpiration rate relates to within- and\n",
    "#across species variations in effective path length in a leaf water model of oxygen isotope enrichment. Plant, Cell\n",
    "#and Environment, 36, 1338-1351; note that the equation used represents the best fit through 4 of 6 species analysed.\n",
    "        ### ===========================================================================\n",
    "        ### Craig & Gordon parameters \n",
    "\n",
    "        #MZ3_cont = -0.0411*MZ3-0.2372\n",
    "        #not implemented here, but for the future, to examine how accounting for source region affects variability of time series\n",
    "        \n",
    "        d_source_H2Oc = d_source_H2O\n",
    "        \n",
    "        d_water_vapour = (0.9916*d_source_H2Oc-10.465)\n",
    "        #d_water_vapour = d_source_H2O + -1*(2.644-3.206*(1000/C2K(airtemp))+\\\n",
    "                                            #1.534*(1e6/(C2K(airtemp)*C2K(airtemp))))\n",
    "\n",
    "        ek = ((fract_through_stomata*1/gs)+(fract_through_boundary_layer*rb))/((1/gs)+rb)\n",
    "\n",
    "        e_star = 2.644-3.206*((1e3)/leaf_temp_K)+1.534*((10**6)/(leaf_temp_K**2))\n",
    "\n",
    "        dv = ((d_water_vapour/1e3)*(1+(d_source_H2Oc/1e3))+(d_source_H2Oc/1e3))*1e3\n",
    "\n",
    "        dv = ((d_water_vapour/1e3)*(1+(d_source_H2Oc/1e3))+(d_source_H2Oc/1e3))*1e3\n",
    "\n",
    "        de = ek+e_star+((d_water_vapour-ek)*ea_ei)\n",
    "\n",
    "        ### ===========================================================================\n",
    "        ### Estimating the Peclet effect \n",
    "\n",
    "        D_Peclet = 0.000000119*(exp(-(637/(leaf_temp_K-137))))\n",
    "\n",
    "        p_Peclet = (transpiration*eff_length)/(C*D_Peclet)\n",
    "\n",
    "        DL = (de*(1-exp(-1*p_Peclet)))/p_Peclet\n",
    "\n",
    "        dL = ((DL/1e3)*(1+(d_source_H2Oc/1e3))+(d_source_H2Oc/1e3))*1e3\n",
    "\n",
    "        ### ===========================================================================\n",
    "        ### Calculating $\\Delta$ cellulose and $\\Delta$ leaf\n",
    "\n",
    "        C_O_fract = ((0.0084*(airtemp**2)) - (0.51*airtemp) + 33.172) \n",
    "        #from Sternberg L, Ellsworth PFV (2011) \n",
    "        #Divergent Biochemical Fractionation, Not Convergent Temperature, Explains Cellulose Oxygen Isotope Enrichment \n",
    "        #across Latitudes. PLoS ONE 6(11): e28040. doi:10.1371/journal.pone.0028040\n",
    "        \n",
    "        D_sucrose = (DL) + C_O_fract\n",
    "\n",
    "        D_cellulose = ((DL)*(1-(prop_exc*prop_Xylem)))+C_O_fract # only place where prop_ex appears\n",
    "        \n",
    "        #D_cellulose = (DL*(1-(prop_exc*prop_Xylem)))+C_O_fract+MZ3_cont # only place where prop_ex appears\n",
    "\n",
    "        D_leaf = D_cellulose - Dcel_Dom\n",
    "\n",
    "        d_sucrose = ((D_sucrose/1e3)*(1+(d_source_H2Oc/1e3))+(d_source_H2Oc/1e3))*1e3\n",
    "\n",
    "        d_leaf = ((D_leaf/1e3)*(1+(d_source_H2Oc/1e3))+(d_source_H2Oc/1000))*1e3\n",
    "\n",
    "        ### ===========================================================================\n",
    "        ### OUTPUT = $\\Delta O_{18}$ in tree-rings cellulose\n",
    "\n",
    "        OUTPUT = ((D_cellulose/1e3)*(1+(d_source_H2Oc/1e3))+(d_source_H2Oc/1e3))*1e3\n",
    "\n",
    "        res.append(OUTPUT)\n",
    "    \n",
    "    res = np.array(res)\n",
    "    res = pd.DataFrame(res, index=df.index)\n",
    "    \n",
    "    # calculates the RMSE\n",
    "    RMSE = np.sqrt((obs['raw'].values - res.values)**2).mean()\n",
    "    \n",
    "    # calculates the correlation coefficient and the p-value\n",
    "    R, P = pearsonr(obs['raw'].values.flatten(), res.values.flatten())\n",
    "    \n",
    "    ave = res.values.mean()\n",
    "    \n",
    "    variance = np.var(res.values)\n",
    "    \n",
    "    obs_ave = obs['raw'].values.mean()\n",
    "    \n",
    "    obs_variance = np.var(obs['raw'].values)\n",
    "    \n",
    "    \n",
    "    #print(res)\n",
    "    \n",
    "    f, axes = plt.subplots(nrows=1, ncols=2, figsize=(12,8))\n",
    "    ax = axes[0]\n",
    "    #ax.plot(inputs.index, l, color='coral', lw=1.5, zorder=2)\n",
    "    ax.plot(res.index, res.values, color='b', lw=3, label='simulation')\n",
    "    ax.plot(obs.index, obs['raw'].values, color='k', lw=3, label='observations')\n",
    "    ax.errorbar(obs.index, obs['raw'].values, yerr=obs['std'].values, fmt='o', color='k')\n",
    "    ax.set_title('a) Raw data: RMSE = {:<4.2f}\\nmod. ave: {:<4.2f}, mod. var: {:<4.2f}\\nobs. ave: {:<4.2f}, obs. var: {:<4.2f}'.\\\n",
    "                 format(RMSE, ave, variance, obs_ave, obs_variance), fontsize=16)\n",
    "    [x.set_fontsize(14) for x in ax.yaxis.get_ticklabels()]\n",
    "    [x.set_fontsize(14) for x in ax.xaxis.get_ticklabels()]\n",
    "    ax.legend(loc=0)\n",
    "    ax.grid('on')\n",
    "    ax.set_ylim(25, 37)\n",
    "    \n",
    "    ax = axes[1]\n",
    "    ax.plot(res.index, zscore(res.values), color='b', lw=3, label='normalized simulation')\n",
    "    ax.plot(obs.index, zscore(obs['raw'].values), color='k', lw=3, label='normalized observations')\n",
    "    ax.errorbar(obs.index, zscore(obs['raw'].values), yerr=obs['std'].values, fmt='o', color='k')\n",
    "    ax.set_title('b) norm. data, R={:+4.2f}, p={:4.2f}\\n\\n'.format(R, P), fontsize=16)\n",
    "    [x.set_fontsize(14) for x in ax.yaxis.get_ticklabels()]\n",
    "    [x.set_fontsize(14) for x in ax.xaxis.get_ticklabels()]\n",
    "    ax.legend(loc=0)\n",
    "    ax.grid('on')\n",
    "    ax.set_ylim(-6, 6)\n",
    "  \n",
    "    plt.show()\n",
    "    \n",
    "    print(80*\"-\")\n",
    "    for key in kwargs.keys():\n",
    "        print(\"{}: {}\".format(key, kwargs[key]))\n",
    "    print(80*\"-\")\n",
    "\n",
    "    "
   ]
  },
  {
   "cell_type": "markdown",
   "metadata": {},
   "source": [
    "### Interact with the model"
   ]
  },
  {
   "cell_type": "code",
   "execution_count": 78,
   "metadata": {
    "collapsed": false
   },
   "outputs": [
    {
     "data": {
      "image/png": "[encoded data removed]",
      "text/plain": [
       "<matplotlib.figure.Figure at 0x10d776e10>"
      ]
     },
     "metadata": {},
     "output_type": "display_data"
    },
    {
     "name": "stdout",
     "output_type": "stream",
     "text": [
      "--------------------------------------------------------------------------------\n",
      "C: 55500.0\n",
      "gs: 0.13\n",
      "fract_through_boundary_layer: 21.0\n",
      "leaf_width: 0.015\n",
      "d_source_H2O: -4.3\n",
      "prop_exc: 0.4\n",
      "fract_through_stomata: 32.0\n",
      "Dcel_Dom: 9.0\n",
      "prop_Xylem: 0.925\n",
      "--------------------------------------------------------------------------------\n"
     ]
    },
    {
     "data": {
      "text/plain": [
       "<function __main__.run_model>"
      ]
     },
     "execution_count": 78,
     "metadata": {},
     "output_type": "execute_result"
    }
   ],
   "source": [
    "interact(run_model, df=fixed(inputs), obs=fixed(obs), **dict_params)"
   ]
  },
  {
   "cell_type": "markdown",
   "metadata": {},
   "source": [
    "<a id='Step_3'></a>"
   ]
  }
 ],
 "metadata": {
  "gist_id": "432ff64f64082aff59f7",
  "kernelspec": {
   "display_name": "Python 2",
   "language": "python",
   "name": "python2"
  },
  "language_info": {
   "codemirror_mode": {
    "name": "ipython",
    "version": 2
   },
   "file_extension": ".py",
   "mimetype": "text/x-python",
   "name": "python",
   "nbconvert_exporter": "python",
   "pygments_lexer": "ipython2",
   "version": "2.7.9"
  }
 },
 "nbformat": 4,
 "nbformat_minor": 0
}
