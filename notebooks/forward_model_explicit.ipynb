{
 "metadata": {
  "gist_id": "432ff64f64082aff59f7",
  "name": "",
  "signature": "sha256:d648c4d41ff32d54a03a6b96fbd4c055e6df3c362651b468a54a6c233f836603"
 },
 "nbformat": 3,
 "nbformat_minor": 0,
 "worksheets": [
  {
   "cells": [
    {
     "cell_type": "heading",
     "level": 1,
     "metadata": {},
     "source": [
      "Forward eco-physiological modeling of $\\delta O_{18}$ composition in Kauri tree rings"
     ]
    },
    {
     "cell_type": "markdown",
     "metadata": {},
     "source": [
      "<dif style=\"font-size:125%\">\n",
      "\n",
      "This [IPython](www.ipython.org) notebook accompanies the paper:  \n",
      "    \n",
      "**Stable oxygen isotope signatures of early season wood in *agathis australis* (Kauri) tree-ring earlywood: Preliminary results and prospects for palaeoclimate reconstructions**\n",
      "\n",
      "By *Andrew M. Lorrey, Tom H. Brookman, Michael N. Evans, Nicolas C. Fauchereau, Alison Criscitiello, Greg Eisheid, Anthony M. Fowler, Travis Horton and Daniel P. Schrag*\n",
      "\n",
      "*Journal of Geophysical Research - Atmosphere*, to be submitted.\n",
      "\n",
      "The code for this model originates from an Excel file provided by Dr. Margaret Barbour, and follows the BFRE04 model\n",
      "\n",
      "Instructions regarding the installation of the necessary libraries and on how to run this notebook are provided in the **README.md** file, located in the main directory. \n",
      "\n",
      "All code and data is available on github at: \n",
      "\n",
      "[https://github.com/nicolasfauchereau/model_isotope](https://github.com/nicolasfauchereau/model_isotope)\n",
      "\n",
      "<hr size=5>"
     ]
    },
    {
     "cell_type": "markdown",
     "metadata": {},
     "source": [
      "## TABLE OF CONTENTS\n",
      "\n",
      "- [Define the parameter space of the model](#Step_1)\n",
      "- [reads the inputs](#Step_2)\n",
      "- [main loop](#Step_3)\n",
      "- [prints the results](#Step_4)\n",
      "- [figures](#Step_5)\n",
      "- [diagnostics](#Step_6)\n",
      "\n",
      "<hr size=5>"
     ]
    },
    {
     "cell_type": "markdown",
     "metadata": {},
     "source": [
      "### The line below makes sure the graphics are displayed inline in the notebook "
     ]
    },
    {
     "cell_type": "code",
     "collapsed": false,
     "input": [
      "%matplotlib inline"
     ],
     "language": "python",
     "metadata": {},
     "outputs": [],
     "prompt_number": 15
    },
    {
     "cell_type": "markdown",
     "metadata": {},
     "source": [
      "### This import the required libraries (see instructions in the README.md file)"
     ]
    },
    {
     "cell_type": "code",
     "collapsed": false,
     "input": [
      "import os\n",
      "from math import exp\n",
      "from itertools import product\n",
      "import numpy as np\n",
      "import pandas as pd\n",
      "from matplotlib import pyplot as plt"
     ],
     "language": "python",
     "metadata": {},
     "outputs": [],
     "prompt_number": 16
    },
    {
     "cell_type": "code",
     "collapsed": false,
     "input": [
      "from statsmodels.formula.api import ols as OLS"
     ],
     "language": "python",
     "metadata": {},
     "outputs": [],
     "prompt_number": 17
    },
    {
     "cell_type": "heading",
     "level": 3,
     "metadata": {},
     "source": [
      "Defines the path where to find the csv files "
     ]
    },
    {
     "cell_type": "code",
     "collapsed": false,
     "input": [
      "dpath = '../excel'"
     ],
     "language": "python",
     "metadata": {},
     "outputs": [],
     "prompt_number": 18
    },
    {
     "cell_type": "heading",
     "level": 3,
     "metadata": {},
     "source": [
      "Defines the path where to save the figures"
     ]
    },
    {
     "cell_type": "code",
     "collapsed": false,
     "input": [
      "fpath = '../figures'"
     ],
     "language": "python",
     "metadata": {},
     "outputs": [],
     "prompt_number": 19
    },
    {
     "cell_type": "heading",
     "level": 3,
     "metadata": {},
     "source": [
      "Below is a small function to convert degrees Celsius to Kelvin "
     ]
    },
    {
     "cell_type": "code",
     "collapsed": false,
     "input": [
      "def C2K(T):\n",
      "    \"\"\"\n",
      "    conversion celsius to Kelvin\n",
      "    \"\"\"\n",
      "    return T + 273.16"
     ],
     "language": "python",
     "metadata": {},
     "outputs": [],
     "prompt_number": 20
    },
    {
     "cell_type": "markdown",
     "metadata": {},
     "source": [
      "<a id='Step_1'></a>"
     ]
    },
    {
     "cell_type": "heading",
     "level": 2,
     "metadata": {},
     "source": [
      "STEP 1: Define the parameter space of the model\n",
      "<hr size=5>"
     ]
    },
    {
     "cell_type": "markdown",
     "metadata": {},
     "source": [
      "<dif style=\"font-size:125%\">\n",
      "\n",
      "**Each parameter entering the calculations of $\\delta 18_{O}$ can be defined as :**  \n",
      "> + ```np.linspace(min, max, steps)``` creates ```steps``` values between ```min``` (included) and ```max``` (not included)  \n",
      "> + ```[value,]``` A real value (e.g. 0.015), brackets around and comma **are importants**  \n",
      "> + ```[value1,value2,...]``` A list of specific real values to test \n",
      "\n",
      "Commented lines start with ```#``` (the keyboard shortcut ```<ctrl-/>``` (```<command-/>``` on mac) toggles commented lines)\n",
      "\n",
      "A brief description of each parameter is provided below: \n",
      "\n",
      "+ **gs_l** is the stomatal conductance \n",
      "+ **leaf_width_l** is the leaf width, accepted values for New Zealand kauri is 0.015 m.\n",
      "+ **d_source_H2O_l** is composition of source water, determined using OIPC\n",
      "+ **fract_through_stomata_l** is the fractionation factor for diffusion through air (32 per mille; Cappa et al. 2003)\n",
      "+ **fract_through_boundary_layer_l** is the fractionation factor for diffusion through the boundary layer (21 per mille; Cernusak et al. 2003)\n",
      "+ **eff_length_l** is the length over which the Peclet effect is evident (m); typically this length is tortuous and is orders of magnitude greater than the actual distance between central vein and evaporating sites (following Barbour and Farquhar 2004)\n",
      "+ **C_l** is the molar density of water (55.5 x 10^3 mol m-3)\n",
      "+ **C_O_fract_l** is the fractionation factor between carbonyl oxygen and water (27 per mille) \n",
      "+ **Dcel_Dom_l** is Delta cellulose - Delta organic matter\n",
      "+ **prop_exc_l** is the proportion of exchangeable oxygen in cellulose formed from simple carbohydrates\n",
      "+ **prop_Xylem_l** is the proportion of unenriched (source) water in developing cell\n",
      "+ **PAR_l** is the **P**hotosynthetic **A**ctive **R**adiation, in units of $\\mu mol.m^{-2}.s^{-1}$\n"
     ]
    },
    {
     "cell_type": "code",
     "collapsed": false,
     "input": [
      "### ===========================================================================\n",
      "### define the parameter space here \n",
      "#gs_l = [0.25,]\n",
      "gs_l = np.linspace(0.063,0.35,10)\n",
      "leaf_width_l= [0.015,]\n",
      "d_source_H2O_l = [-5.17,]\n",
      "fract_through_stomata_l = [32,]\n",
      "fract_through_boundary_layer_l = [21,]\n",
      "# **eff_length** is the effective length at a minimum is double the average distance for a stoma to the central vein. For kauri, the avg distance is 0.0035m.  \n",
      "# Thus, the minimum for this variable is about 0.0077m.  Untested theory however suggests at least 2 orders of magnitude for the avg distance,\n",
      "# so 0.35m\n",
      "#eff_length_l = [0.0077,]\n",
      "eff_length_l = np.linspace(0.0035,0.166,10)\n",
      "C_l = [5.55e4,]\n",
      "# #### Constants for calculations of $\\Delta$ cellulose and $\\Delta$ leaf\n",
      "C_O_fract_l = [27,]\n",
      "#Dcel_Dom_l = np.linspace(1,20,10)\n",
      "Dcel_Dom_l = [9,]\n",
      "prop_exc_l = np.linspace(0.3,0.5,10)\n",
      "#prop_exc_l = [0.45,]\n",
      "prop_Xylem_l = np.linspace(0.3,0.9,12)\n",
      "#prop_Xylem_l = [0.56,]\n",
      "PAR_l = np.linspace(200,1300,20)\n",
      "### ==========================================================================="
     ],
     "language": "python",
     "metadata": {},
     "outputs": [],
     "prompt_number": 21
    },
    {
     "cell_type": "markdown",
     "metadata": {},
     "source": [
      "<a id='Step_2'></a>"
     ]
    },
    {
     "cell_type": "markdown",
     "metadata": {},
     "source": [
      "### Reads the inputs (relative humidity, air temperature, pressure, windspeed) from the csv file"
     ]
    },
    {
     "cell_type": "code",
     "collapsed": false,
     "input": [
      "inputs = pd.read_csv(os.path.join(dpath,'inputs.csv'), index_col = 0)"
     ],
     "language": "python",
     "metadata": {},
     "outputs": [],
     "prompt_number": 22
    },
    {
     "cell_type": "code",
     "collapsed": false,
     "input": [
      "inputs.head()"
     ],
     "language": "python",
     "metadata": {},
     "outputs": [
      {
       "html": [
        "<div style=\"max-height:1000px;max-width:1500px;overflow:auto;\">\n",
        "<table border=\"1\" class=\"dataframe\">\n",
        "  <thead>\n",
        "    <tr style=\"text-align: right;\">\n",
        "      <th></th>\n",
        "      <th>Rh</th>\n",
        "      <th>Air T</th>\n",
        "      <th>Pressure</th>\n",
        "      <th>windspeed</th>\n",
        "    </tr>\n",
        "    <tr>\n",
        "      <th>Year</th>\n",
        "      <th></th>\n",
        "      <th></th>\n",
        "      <th></th>\n",
        "      <th></th>\n",
        "    </tr>\n",
        "  </thead>\n",
        "  <tbody>\n",
        "    <tr>\n",
        "      <th>2009</th>\n",
        "      <td> 84.40</td>\n",
        "      <td> 14.27</td>\n",
        "      <td> 1015.3</td>\n",
        "      <td> 5.4</td>\n",
        "    </tr>\n",
        "    <tr>\n",
        "      <th>2008</th>\n",
        "      <td> 79.80</td>\n",
        "      <td> 14.63</td>\n",
        "      <td> 1018.3</td>\n",
        "      <td> 5.3</td>\n",
        "    </tr>\n",
        "    <tr>\n",
        "      <th>2007</th>\n",
        "      <td> 78.40</td>\n",
        "      <td> 14.43</td>\n",
        "      <td> 1017.1</td>\n",
        "      <td> 4.9</td>\n",
        "    </tr>\n",
        "    <tr>\n",
        "      <th>2006</th>\n",
        "      <td> 81.25</td>\n",
        "      <td> 14.80</td>\n",
        "      <td> 1018.7</td>\n",
        "      <td> 5.4</td>\n",
        "    </tr>\n",
        "    <tr>\n",
        "      <th>2005</th>\n",
        "      <td> 81.30</td>\n",
        "      <td> 15.07</td>\n",
        "      <td> 1016.2</td>\n",
        "      <td> 4.9</td>\n",
        "    </tr>\n",
        "  </tbody>\n",
        "</table>\n",
        "</div>"
       ],
       "metadata": {},
       "output_type": "pyout",
       "prompt_number": 23,
       "text": [
        "         Rh  Air T  Pressure  windspeed\n",
        "Year                                   \n",
        "2009  84.40  14.27    1015.3        5.4\n",
        "2008  79.80  14.63    1018.3        5.3\n",
        "2007  78.40  14.43    1017.1        4.9\n",
        "2006  81.25  14.80    1018.7        5.4\n",
        "2005  81.30  15.07    1016.2        4.9"
       ]
      }
     ],
     "prompt_number": 23
    },
    {
     "cell_type": "markdown",
     "metadata": {},
     "source": [
      "### Reads the ```observed``` values of $\\delta 18_{0}$ "
     ]
    },
    {
     "cell_type": "code",
     "collapsed": false,
     "input": [
      "obs = pd.read_csv(os.path.join(dpath,'observed_tree_rings.csv'), index_col=0)"
     ],
     "language": "python",
     "metadata": {},
     "outputs": [],
     "prompt_number": 24
    },
    {
     "cell_type": "code",
     "collapsed": false,
     "input": [
      "obs.head()"
     ],
     "language": "python",
     "metadata": {},
     "outputs": [
      {
       "html": [
        "<div style=\"max-height:1000px;max-width:1500px;overflow:auto;\">\n",
        "<table border=\"1\" class=\"dataframe\">\n",
        "  <thead>\n",
        "    <tr style=\"text-align: right;\">\n",
        "      <th></th>\n",
        "      <th>av</th>\n",
        "      <th>std</th>\n",
        "    </tr>\n",
        "    <tr>\n",
        "      <th>year</th>\n",
        "      <th></th>\n",
        "      <th></th>\n",
        "    </tr>\n",
        "  </thead>\n",
        "  <tbody>\n",
        "    <tr>\n",
        "      <th>2009</th>\n",
        "      <td>-0.964275</td>\n",
        "      <td> 4.072337</td>\n",
        "    </tr>\n",
        "    <tr>\n",
        "      <th>2008</th>\n",
        "      <td> 1.130145</td>\n",
        "      <td> 0.316552</td>\n",
        "    </tr>\n",
        "    <tr>\n",
        "      <th>2007</th>\n",
        "      <td> 0.957118</td>\n",
        "      <td> 0.908847</td>\n",
        "    </tr>\n",
        "    <tr>\n",
        "      <th>2006</th>\n",
        "      <td>-1.459511</td>\n",
        "      <td> 2.617164</td>\n",
        "    </tr>\n",
        "    <tr>\n",
        "      <th>2005</th>\n",
        "      <td>-0.324430</td>\n",
        "      <td> 0.898784</td>\n",
        "    </tr>\n",
        "  </tbody>\n",
        "</table>\n",
        "</div>"
       ],
       "metadata": {},
       "output_type": "pyout",
       "prompt_number": 25,
       "text": [
        "            av       std\n",
        "year                    \n",
        "2009 -0.964275  4.072337\n",
        "2008  1.130145  0.316552\n",
        "2007  0.957118  0.908847\n",
        "2006 -1.459511  2.617164\n",
        "2005 -0.324430  0.898784"
       ]
      }
     ],
     "prompt_number": 25
    },
    {
     "cell_type": "markdown",
     "metadata": {},
     "source": [
      "### Multiply by the standard deviation and add the mean to get the $\\delta 18_{O}$ values"
     ]
    },
    {
     "cell_type": "code",
     "collapsed": false,
     "input": [
      "obs['raw'] = (obs['av']*1.73) + 32.06"
     ],
     "language": "python",
     "metadata": {},
     "outputs": [],
     "prompt_number": 26
    },
    {
     "cell_type": "markdown",
     "metadata": {},
     "source": [
      "### Generate the parameter space "
     ]
    },
    {
     "cell_type": "code",
     "collapsed": false,
     "input": [
      "parameter_space = product(gs_l,leaf_width_l,d_source_H2O_l,fract_through_stomata_l,fract_through_boundary_layer_l,\\\n",
      "                          eff_length_l,C_l,C_O_fract_l,Dcel_Dom_l,prop_exc_l,prop_Xylem_l, PAR_l)\n",
      "\n",
      "parameter_space = list(parameter_space)"
     ],
     "language": "python",
     "metadata": {},
     "outputs": [],
     "prompt_number": 27
    },
    {
     "cell_type": "markdown",
     "metadata": {},
     "source": [
      "<a id='Step_3'></a>"
     ]
    },
    {
     "cell_type": "markdown",
     "metadata": {},
     "source": [
      "### Below the main loops (over inputs and over parameter space) are implemented: *Do not* modify anything here"
     ]
    },
    {
     "cell_type": "code",
     "collapsed": false,
     "input": [
      "### ===========================================================================\n",
      "\n",
      "l = []\n",
      "\n",
      "for index in xrange(len(inputs)): \n",
      "\n",
      "    ### ===========================================================================\n",
      "    ### loops over the inputs \n",
      "    rh, airtemp, pressure, windspeed = inputs.irow(index)\n",
      "\n",
      "    param_outputs= [] \n",
      "\n",
      "    ### ===========================================================================\n",
      "    ### start the loop over the parameter space \n",
      "    for parameters in parameter_space: \n",
      "        gs,leaf_width,d_source_H2O,fract_through_stomata,fract_through_boundary_layer,\\\n",
      "        eff_length,C,C_O_fract,Dcel_Dom,prop_exc,prop_Xylem, PAR = parameters\n",
      "\n",
      "        ### ===========================================================================\n",
      "        ### Energy balance calculations \n",
      "        rs = 1. / gs\n",
      "\n",
      "        r_times_b = 3.8 * (leaf_width**0.25)*(windspeed**(-0.5))\n",
      "\n",
      "        rb = 0.89 * r_times_b\n",
      "\n",
      "        gr = (4*0.98*(0.000000056703)*(C2K(airtemp)**3))/(29.2)\n",
      "\n",
      "        rBH = 1./((1./r_times_b)+gr)\n",
      "\n",
      "        Qtot = (PAR/4.6)*2\n",
      "\n",
      "        Qabs = 0.5 * Qtot\n",
      "\n",
      "        ### ===========================================================================\n",
      "        ### Calculating $\\epsilon$\n",
      "\n",
      "        lesstemp = airtemp - 1.\n",
      "\n",
      "        estemp = (6.13753 * exp(lesstemp * ((18.564 - (lesstemp/254.4)))/(lesstemp +255.57)))*100\n",
      "\n",
      "        lesstemp_K = C2K(lesstemp)\n",
      "\n",
      "        s = (((6.13753 * exp(airtemp * ((18.564 - (airtemp/254.4)))/(airtemp +255.57))))-estemp)\\\n",
      "        /(C2K(airtemp)-C2K(lesstemp))\n",
      "\n",
      "        smbar = 6.13753*(((airtemp+255.7)*(18.564 - (2*airtemp/254.4)) - airtemp*(18.564 - \\\n",
      "                            (airtemp/254.4)))/((airtemp+255.57)**2))*(exp(airtemp*(18.564 - \\\n",
      "                                                        (airtemp/254.4))/(airtemp + 255.57)))\n",
      "\n",
      "        epsilon = (smbar*44012)/(29.2*(pressure))\n",
      "\n",
      "        ### ===========================================================================\n",
      "        ### Calculating $\\frac{EA}{EI}$\n",
      "\n",
      "        ea = (rh / 100) * (6.13753 * exp(airtemp * ((18.564 - (airtemp/254.4)))/(airtemp +255.57)))\n",
      "\n",
      "        es = (6.13753 * exp(airtemp * ((18.564 - (airtemp/254.4)))/(airtemp +255.57)))\n",
      "\n",
      "        D = (((6.13753 * exp(airtemp * ((18.564 - (airtemp/254.4)))\\\n",
      "                             /(airtemp +255.57))))-ea)/pressure\n",
      "\n",
      "        temp_diff = (rBH*((Qabs*(rs+rb))-(44012*D)))/(29.2*(rs+rb+(epsilon*rBH)))\n",
      "\n",
      "        leaf_temp = airtemp + temp_diff\n",
      "\n",
      "        ei = (6.13753 * exp(leaf_temp * ((18.564 - (leaf_temp/254.4)))\\\n",
      "                            /(leaf_temp +255.57)))\n",
      "\n",
      "        leaf_temp_K = C2K(leaf_temp)\n",
      "\n",
      "        ea_ei = ea / ei\n",
      "\n",
      "        ### ===========================================================================\n",
      "        ### Calculating transpiration\n",
      "\n",
      "        transpiration = (epsilon * rBH * Qabs / 44012. + D) \\\n",
      "        / (rs + rb + epsilon * rBH)\n",
      "\n",
      "        ### ===========================================================================\n",
      "        ### Craig & Gordon parameters \n",
      "\n",
      "        d_water_vapour = d_source_H2O + -1*(2.644-3.206*(1000/C2K(airtemp))+\\\n",
      "                                            1.534*(1e6/(C2K(airtemp)*C2K(airtemp))))\n",
      "\n",
      "        ek = ((fract_through_stomata*1/gs)+(fract_through_boundary_layer*rb))/((1/gs)+rb)\n",
      "\n",
      "        e_star = 2.644-3.206*((1e3)/leaf_temp_K)+1.534*((10**6)/(leaf_temp_K**2))\n",
      "\n",
      "        dv = ((d_water_vapour/1e3)*(1+(d_source_H2O/1e3))+(d_source_H2O/1e3))*1e3\n",
      "\n",
      "        dv = ((d_water_vapour/1e3)*(1+(d_source_H2O/1e3))+(d_source_H2O/1e3))*1e3\n",
      "\n",
      "        de = ek+e_star+((d_water_vapour-ek)*ea_ei)\n",
      "\n",
      "        ### ===========================================================================\n",
      "        ### Estimating the Peclet effect \n",
      "\n",
      "        D_Peclet = 0.000000119*(exp(-(637/(leaf_temp_K-137))))\n",
      "\n",
      "        p_Peclet = (transpiration*eff_length)/(C*D_Peclet)\n",
      "\n",
      "        DL = (de*(1-exp(-1*p_Peclet)))/p_Peclet\n",
      "\n",
      "        dL = ((DL/1e3)*(1+(d_source_H2O/1e3))+(d_source_H2O/1e3))*1e3\n",
      "\n",
      "        ### ===========================================================================\n",
      "        ### Calculating $\\Delta$ cellulose and $\\Delta$ leaf\n",
      "\n",
      "        D_sucrose = DL + C_O_fract\n",
      "\n",
      "        D_cellulose = (DL*(1-(prop_exc*prop_Xylem)))+C_O_fract # only place where prop_ex appears\n",
      "\n",
      "        D_leaf = D_cellulose - Dcel_Dom\n",
      "\n",
      "        d_sucrose = ((D_sucrose/1e3)*(1+(d_source_H2O/1e3))+(d_source_H2O/1e3))*1e3\n",
      "\n",
      "        d_leaf = ((D_leaf/1e3)*(1+(d_source_H2O/1e3))+(d_source_H2O/1000))*1e3\n",
      "\n",
      "        ### ===========================================================================\n",
      "        ### OUTPUT = $\\Delta O_{18}$ in tree-rings cellulose\n",
      "\n",
      "        OUTPUT = ((D_cellulose/1e3)*(1+(d_source_H2O/1e3))+(d_source_H2O/1e3))*1e3\n",
      "\n",
      "        param_outputs.append(OUTPUT)\n",
      "\n",
      "    l.append(param_outputs)\n",
      "\n",
      "l = np.array(l)"
     ],
     "language": "python",
     "metadata": {},
     "outputs": [],
     "prompt_number": 28
    },
    {
     "cell_type": "markdown",
     "metadata": {},
     "source": [
      "### Normalize (subtracts the average, divides by the sample standard deviation) the outputs "
     ]
    },
    {
     "cell_type": "code",
     "collapsed": false,
     "input": [
      "mean_l = l.mean(0)\n",
      "\n",
      "std_l = l.std(0)\n",
      "\n",
      "l_s = (l - mean_l) / std_l"
     ],
     "language": "python",
     "metadata": {},
     "outputs": [],
     "prompt_number": 29
    },
    {
     "cell_type": "markdown",
     "metadata": {},
     "source": [
      "### Calculate correlation coefficients and find the maximum"
     ]
    },
    {
     "cell_type": "code",
     "collapsed": false,
     "input": [
      "R_coeff = []\n",
      "for i in np.arange(l_s.shape[1]):                                                                                                                                                                   \n",
      "    R_coeff.append(np.corrcoef(l_s[:,i], obs['av'].values.flatten())[0,1])\n",
      "R_coeff = np.array(R_coeff)\n",
      "maxR = np.argmax(R_coeff)"
     ],
     "language": "python",
     "metadata": {},
     "outputs": [],
     "prompt_number": 30
    },
    {
     "cell_type": "markdown",
     "metadata": {},
     "source": [
      "### Now finds the parameters that minimize the root mean square error (${RMSE=\\sqrt{\\frac{1}{n}\\sum_{t=1}^{n}{(observed_{t}-modelled_{t})^2}}}{}$)"
     ]
    },
    {
     "cell_type": "code",
     "collapsed": false,
     "input": [
      "### ===========================================================================\n",
      "RMSE = []\n",
      "for i in np.arange(l.shape[1]): \n",
      "    RMSE.append(np.sqrt((obs['raw'] - l[:,i])**2).mean())                                                                                                                                                 \n",
      "RMSE = np.array(RMSE)\n",
      "minRMSE = np.argmin(RMSE)"
     ],
     "language": "python",
     "metadata": {},
     "outputs": [],
     "prompt_number": 31
    },
    {
     "cell_type": "markdown",
     "metadata": {},
     "source": [
      "### Find the corresponding parameters in the parameter space"
     ]
    },
    {
     "cell_type": "code",
     "collapsed": false,
     "input": [
      "#parameter_space = np.array(parameter_space)\n",
      "\n",
      "optimal_params_R = parameter_space[maxR]\n",
      "optimal_params_RMSE = parameter_space[minRMSE]"
     ],
     "language": "python",
     "metadata": {},
     "outputs": [],
     "prompt_number": 32
    },
    {
     "cell_type": "markdown",
     "metadata": {},
     "source": [
      "<a id='Step_4'></a>"
     ]
    },
    {
     "cell_type": "markdown",
     "metadata": {},
     "source": [
      "### Print the results: best set of parameters that respectively minimize (maximize) the RMSE (Pearson's R)"
     ]
    },
    {
     "cell_type": "code",
     "collapsed": false,
     "input": [
      "results = \"\"\"\n",
      "The Maximum R value ({0:<4.2f}) is obtained for: \n",
      "gs = {1[0]:<5.2f}\n",
      "leaf_width = {1[1]:<6.4f}\n",
      "d_source_H2O = {1[2]:<5.2f}\n",
      "fract_through_stomata = {1[3]:<5.2f}\n",
      "fract_through_boundary_layer = {1[4]:<5.2f}\n",
      "eff_length = {1[5]:<6.4f}\n",
      "C = {1[6]:<5.2f}\n",
      "C_O_fract = {1[7]:<5.2f}\n",
      "Dcel_Dom = {1[8]:<5.2f}\n",
      "prop_exc = {1[9]:<5.2f}\n",
      "prop_Xylem = {1[10]:<5.2f}\n",
      "PAR = {1[11]:<5.2f}\n",
      "\n",
      "The corresponding RMSE. is = {2:<5.2f} (max: {3:<5.2f})\n",
      "\"\"\".format(R_coeff[maxR],optimal_params_R,RMSE[maxR],RMSE.max())\n",
      "\n",
      "print(results)         "
     ],
     "language": "python",
     "metadata": {},
     "outputs": [
      {
       "output_type": "stream",
       "stream": "stdout",
       "text": [
        "\n",
        "The Maximum R value (0.69) is obtained for: \n",
        "gs = 0.35 \n",
        "leaf_width = 0.0150\n",
        "d_source_H2O = -5.17\n",
        "fract_through_stomata = 32.00\n",
        "fract_through_boundary_layer = 21.00\n",
        "eff_length = 0.1660\n",
        "C = 55500.00\n",
        "C_O_fract = 27.00\n",
        "Dcel_Dom = 9.00 \n",
        "prop_exc = 0.32 \n",
        "prop_Xylem = 0.79 \n",
        "PAR = 547.37\n",
        "\n",
        "The corresponding RMSE. is = 8.56  (max: 9.39 )\n",
        "\n"
       ]
      }
     ],
     "prompt_number": 33
    },
    {
     "cell_type": "code",
     "collapsed": false,
     "input": [
      "results = \"\"\"\n",
      "The Minimum RMSE value ({0:<4.2f}) is obtained for: \n",
      "gs = {1[0]:<5.2f}\n",
      "leaf_width = {1[1]:<6.4f}\n",
      "d_source_H2O = {1[2]:<5.2f}\n",
      "fract_through_stomata = {1[3]:<5.2f}\n",
      "fract_through_boundary_layer = {1[4]:<5.2f}\n",
      "eff_length = {1[5]:<6.4f}\n",
      "C = {1[6]:<5.2f}\n",
      "C_O_fract = {1[7]:<5.2f}\n",
      "Dcel_Dom = {1[8]:<5.2f}\n",
      "prop_exc = {1[9]:<5.2f}\n",
      "prop_Xylem = {1[10]:<5.2f}\n",
      "PAR = {1[11]:<5.2f}\n",
      "\n",
      "The corresponding R. coeff. is = {2:<5.2f} (min: {3:<5.2f})\n",
      "\n",
      "\"\"\".format(RMSE[minRMSE],optimal_params_RMSE,R_coeff[minRMSE],R_coeff.min())\n",
      "\n",
      "print(results)         "
     ],
     "language": "python",
     "metadata": {},
     "outputs": [
      {
       "output_type": "stream",
       "stream": "stdout",
       "text": [
        "\n",
        "The Minimum RMSE value (0.77) is obtained for: \n",
        "gs = 0.06 \n",
        "leaf_width = 0.0150\n",
        "d_source_H2O = -5.17\n",
        "fract_through_stomata = 32.00\n",
        "fract_through_boundary_layer = 21.00\n",
        "eff_length = 0.0035\n",
        "C = 55500.00\n",
        "C_O_fract = 27.00\n",
        "Dcel_Dom = 9.00 \n",
        "prop_exc = 0.32 \n",
        "prop_Xylem = 0.30 \n",
        "PAR = 1010.53\n",
        "\n",
        "The corresponding R. coeff. is = 0.58  (min: 0.55 )\n",
        "\n",
        "\n"
       ]
      }
     ],
     "prompt_number": 34
    },
    {
     "cell_type": "markdown",
     "metadata": {},
     "source": [
      "<a id=\"Step_5\"></a>"
     ]
    },
    {
     "cell_type": "markdown",
     "metadata": {},
     "source": [
      "### Creates the figures"
     ]
    },
    {
     "cell_type": "code",
     "collapsed": false,
     "input": [
      "### ===========================================================================\n",
      "### raw modelled values (possibly P-dimensional)\n",
      "f, ax = plt.subplots(figsize=(12,8))\n",
      "#ax.plot(inputs.index, l, color='coral', lw=1.5, zorder=2)\n",
      "ax.fill_between(inputs.index, l.min(1),l.max(1), color='0.7', lw=1.5, zorder=2)\n",
      "ax.plot(inputs.index, l[:,minRMSE], color='b', lw=3, label='best simulation (RMSE)')\n",
      "ax.plot(inputs.index, l[:,maxR], color='r', lw=3, label='best simulation (R)')\n",
      "ax.plot(obs.index, obs['raw'].values, color='k', lw=3, label='observations')\n",
      "ax.errorbar(obs.index, obs['raw'].values, yerr=obs['std'].values, fmt='o', color='k')\n",
      "ax.set_title('a) Raw data', fontsize=16)\n",
      "[x.set_fontsize(14) for x in ax.yaxis.get_ticklabels()]\n",
      "[x.set_fontsize(14) for x in ax.xaxis.get_ticklabels()]\n",
      "ax.legend(loc=0)\n",
      "ax.grid('on')\n",
      "f.savefig(os.path.join(fpath,'raw_modelled_delta18O.png'), bbox_inches='tight', dpi=200)\n",
      "plt.show()\n",
      "\n",
      "### ===========================================================================\n",
      "### normalized modelled values (possibly P-dimensional) and observed values \n",
      "f, ax = plt.subplots(figsize=(12,8))\n",
      "#ax.plot(inputs.index, l_s, color='coral', lw=1.5)\n",
      "ax.fill_between(inputs.index, l_s.min(1),l_s.max(1), color='0.7', zorder=2)\n",
      "ax.plot(obs.index, obs['av'].values, color='k', lw=3, label='observations')\n",
      "ax.plot(inputs.index, l_s[:,maxR], color='r', lw=3, label='best simulation (R)')\n",
      "ax.plot(inputs.index, l_s[:,minRMSE], color='b', lw=3, label='best simulation (RMSE)')\n",
      "ax.errorbar(obs.index, obs['av'].values, yerr=obs['std'].values, fmt='o', color='k')\n",
      "ax.legend(loc=0)\n",
      "[x.set_fontsize(14) for x in ax.yaxis.get_ticklabels()]\n",
      "[x.set_fontsize(14) for x in ax.xaxis.get_ticklabels()]\n",
      "\n",
      "ax.set_title('b) normalized data:\\n modelled and observed $\\delta O_{18}$', fontsize=16)\n",
      "#ax.text(2006,2.5,'R=%4.2f' % (np.corrcoef(l_s.flatten(),obs['av'].values)[0,1]))\n",
      "ax.grid('on')\n",
      "f.savefig(os.path.join(fpath,'normalized_modelled_delta18O.png'), bbox_inches='tight', dpi=200)\n",
      "plt.show()"
     ],
     "language": "python",
     "metadata": {},
     "outputs": [
      {
       "metadata": {},
       "output_type": "display_data",
       "png": "[encoded data removed]",
       "text": [
        "<matplotlib.figure.Figure at 0x10dcdab50>"
       ]
      },
      {
       "metadata": {},
       "output_type": "display_data",
       "png": "[encoded data removed]",
       "text": [
        "<matplotlib.figure.Figure at 0x11afb8e50>"
       ]
      }
     ],
     "prompt_number": 35
    },
    {
     "cell_type": "code",
     "collapsed": false,
     "input": [
      "caption=\"\"\"\n",
      "a) The black curve represents the observation along with the error bars (Delta O18, permille). The Solid blue curve is \n",
      "the best model, optimized over the parameter space for minimizing the Root Mean Squared Error (RMSE) between the modelled \n",
      "and observed time-series. The solid red curve is the best model, optimized over the parameter space for maximizing the \n",
      "Pearson's correlation coefficient between the modelled andobserved time-series. \n",
      "\n",
      "The range between the minimum and maximum values of the modelled time-series for each time-step is shaded in gray.\n",
      "\n",
      "b) same as in a but normalized time-series are displayed, error bars in standard deviation units\"\"\"\n",
      "\n",
      "print(caption)"
     ],
     "language": "python",
     "metadata": {},
     "outputs": [
      {
       "output_type": "stream",
       "stream": "stdout",
       "text": [
        "\n",
        "a) The black curve represents the observation along with the error bars (Delta O18, permille). The Solid blue curve is \n",
        "the best model, optimized over the parameter space for minimizing the Root Mean Squared Error (RMSE) between the modelled \n",
        "and observed time-series. The solid red curve is the best model, optimized over the parameter space for maximizing the \n",
        "Pearson's correlation coefficient between the modelled andobserved time-series. \n",
        "\n",
        "The range between the minimum and maximum values of the modelled time-series for each time-step is shaded in gray.\n",
        "\n",
        "b) same as in a but normalized time-series are displayed, error bars in standard deviation units\n"
       ]
      }
     ],
     "prompt_number": 36
    },
    {
     "cell_type": "markdown",
     "metadata": {},
     "source": [
      "<a id=\"Step_6\"></a>"
     ]
    },
    {
     "cell_type": "heading",
     "level": 2,
     "metadata": {},
     "source": [
      "<hr size = 5>\n",
      "Diagnostics "
     ]
    },
    {
     "cell_type": "code",
     "collapsed": false,
     "input": [
      "results  = pd.DataFrame(np.c_[l[:,maxR], l[:,minRMSE], obs['av'].values], index=inputs.index, \\\n",
      "                        columns = ['maxR', 'minRMSE','obs'])"
     ],
     "language": "python",
     "metadata": {},
     "outputs": [],
     "prompt_number": 37
    },
    {
     "cell_type": "heading",
     "level": 3,
     "metadata": {},
     "source": [
      "correlation matrix"
     ]
    },
    {
     "cell_type": "code",
     "collapsed": false,
     "input": [
      "results.corr()"
     ],
     "language": "python",
     "metadata": {},
     "outputs": [
      {
       "html": [
        "<div style=\"max-height:1000px;max-width:1500px;overflow:auto;\">\n",
        "<table border=\"1\" class=\"dataframe\">\n",
        "  <thead>\n",
        "    <tr style=\"text-align: right;\">\n",
        "      <th></th>\n",
        "      <th>maxR</th>\n",
        "      <th>minRMSE</th>\n",
        "      <th>obs</th>\n",
        "    </tr>\n",
        "  </thead>\n",
        "  <tbody>\n",
        "    <tr>\n",
        "      <th>maxR</th>\n",
        "      <td> 1.000000</td>\n",
        "      <td> 0.930567</td>\n",
        "      <td> 0.686098</td>\n",
        "    </tr>\n",
        "    <tr>\n",
        "      <th>minRMSE</th>\n",
        "      <td> 0.930567</td>\n",
        "      <td> 1.000000</td>\n",
        "      <td> 0.584298</td>\n",
        "    </tr>\n",
        "    <tr>\n",
        "      <th>obs</th>\n",
        "      <td> 0.686098</td>\n",
        "      <td> 0.584298</td>\n",
        "      <td> 1.000000</td>\n",
        "    </tr>\n",
        "  </tbody>\n",
        "</table>\n",
        "</div>"
       ],
       "metadata": {},
       "output_type": "pyout",
       "prompt_number": 38,
       "text": [
        "             maxR   minRMSE       obs\n",
        "maxR     1.000000  0.930567  0.686098\n",
        "minRMSE  0.930567  1.000000  0.584298\n",
        "obs      0.686098  0.584298  1.000000"
       ]
      }
     ],
     "prompt_number": 38
    },
    {
     "cell_type": "heading",
     "level": 3,
     "metadata": {},
     "source": [
      "Observations versus results optimised for R (maximise Pearson's R)"
     ]
    },
    {
     "cell_type": "code",
     "collapsed": false,
     "input": [
      "max_R_mod = OLS('obs ~ maxR', results).fit()"
     ],
     "language": "python",
     "metadata": {},
     "outputs": [],
     "prompt_number": 39
    },
    {
     "cell_type": "code",
     "collapsed": false,
     "input": [
      "max_R_mod.summary()"
     ],
     "language": "python",
     "metadata": {},
     "outputs": [
      {
       "html": [
        "<table class=\"simpletable\">\n",
        "<caption>OLS Regression Results</caption>\n",
        "<tr>\n",
        "  <th>Dep. Variable:</th>           <td>obs</td>       <th>  R-squared:         </th> <td>   0.471</td>\n",
        "</tr>\n",
        "<tr>\n",
        "  <th>Model:</th>                   <td>OLS</td>       <th>  Adj. R-squared:    </th> <td>   0.450</td>\n",
        "</tr>\n",
        "<tr>\n",
        "  <th>Method:</th>             <td>Least Squares</td>  <th>  F-statistic:       </th> <td>   23.12</td>\n",
        "</tr>\n",
        "<tr>\n",
        "  <th>Date:</th>             <td>Thu, 09 Oct 2014</td> <th>  Prob (F-statistic):</th> <td>5.57e-05</td>\n",
        "</tr>\n",
        "<tr>\n",
        "  <th>Time:</th>                 <td>14:26:08</td>     <th>  Log-Likelihood:    </th> <td> -20.920</td>\n",
        "</tr>\n",
        "<tr>\n",
        "  <th>No. Observations:</th>      <td>    28</td>      <th>  AIC:               </th> <td>   45.84</td>\n",
        "</tr>\n",
        "<tr>\n",
        "  <th>Df Residuals:</th>          <td>    26</td>      <th>  BIC:               </th> <td>   48.50</td>\n",
        "</tr>\n",
        "<tr>\n",
        "  <th>Df Model:</th>              <td>     1</td>      <th>                     </th>     <td> </td>   \n",
        "</tr>\n",
        "</table>\n",
        "<table class=\"simpletable\">\n",
        "<tr>\n",
        "      <td></td>         <th>coef</th>     <th>std err</th>      <th>t</th>      <th>P>|t|</th> <th>[95.0% Conf. Int.]</th> \n",
        "</tr>\n",
        "<tr>\n",
        "  <th>Intercept</th> <td>  -93.1100</td> <td>   19.372</td> <td>   -4.806</td> <td> 0.000</td> <td> -132.929   -53.291</td>\n",
        "</tr>\n",
        "<tr>\n",
        "  <th>maxR</th>      <td>    3.9510</td> <td>    0.822</td> <td>    4.809</td> <td> 0.000</td> <td>    2.262     5.640</td>\n",
        "</tr>\n",
        "</table>\n",
        "<table class=\"simpletable\">\n",
        "<tr>\n",
        "  <th>Omnibus:</th>       <td> 0.500</td> <th>  Durbin-Watson:     </th> <td>   1.747</td>\n",
        "</tr>\n",
        "<tr>\n",
        "  <th>Prob(Omnibus):</th> <td> 0.779</td> <th>  Jarque-Bera (JB):  </th> <td>   0.302</td>\n",
        "</tr>\n",
        "<tr>\n",
        "  <th>Skew:</th>          <td> 0.245</td> <th>  Prob(JB):          </th> <td>   0.860</td>\n",
        "</tr>\n",
        "<tr>\n",
        "  <th>Kurtosis:</th>      <td> 2.864</td> <th>  Cond. No.          </th> <td>4.57e+03</td>\n",
        "</tr>\n",
        "</table>"
       ],
       "metadata": {},
       "output_type": "pyout",
       "prompt_number": 52,
       "text": [
        "<class 'statsmodels.iolib.summary.Summary'>\n",
        "\"\"\"\n",
        "                            OLS Regression Results                            \n",
        "==============================================================================\n",
        "Dep. Variable:                    obs   R-squared:                       0.471\n",
        "Model:                            OLS   Adj. R-squared:                  0.450\n",
        "Method:                 Least Squares   F-statistic:                     23.12\n",
        "Date:                Thu, 09 Oct 2014   Prob (F-statistic):           5.57e-05\n",
        "Time:                        14:26:08   Log-Likelihood:                -20.920\n",
        "No. Observations:                  28   AIC:                             45.84\n",
        "Df Residuals:                      26   BIC:                             48.50\n",
        "Df Model:                           1                                         \n",
        "==============================================================================\n",
        "                 coef    std err          t      P>|t|      [95.0% Conf. Int.]\n",
        "------------------------------------------------------------------------------\n",
        "Intercept    -93.1100     19.372     -4.806      0.000      -132.929   -53.291\n",
        "maxR           3.9510      0.822      4.809      0.000         2.262     5.640\n",
        "==============================================================================\n",
        "Omnibus:                        0.500   Durbin-Watson:                   1.747\n",
        "Prob(Omnibus):                  0.779   Jarque-Bera (JB):                0.302\n",
        "Skew:                           0.245   Prob(JB):                        0.860\n",
        "Kurtosis:                       2.864   Cond. No.                     4.57e+03\n",
        "==============================================================================\n",
        "\n",
        "Warnings:\n",
        "[1] The condition number is large, 4.57e+03. This might indicate that there are\n",
        "strong multicollinearity or other numerical problems.\n",
        "\"\"\""
       ]
      }
     ],
     "prompt_number": 52
    },
    {
     "cell_type": "heading",
     "level": 3,
     "metadata": {},
     "source": [
      "Observations versus results optimised  for RMSE (minimise RMSE)"
     ]
    },
    {
     "cell_type": "code",
     "collapsed": false,
     "input": [
      "min_RMSE_mod = OLS('obs ~ minRMSE', results).fit()"
     ],
     "language": "python",
     "metadata": {},
     "outputs": [],
     "prompt_number": 41
    },
    {
     "cell_type": "code",
     "collapsed": false,
     "input": [
      "min_RMSE_mod.summary()"
     ],
     "language": "python",
     "metadata": {},
     "outputs": [
      {
       "html": [
        "<table class=\"simpletable\">\n",
        "<caption>OLS Regression Results</caption>\n",
        "<tr>\n",
        "  <th>Dep. Variable:</th>           <td>obs</td>       <th>  R-squared:         </th> <td>   0.341</td>\n",
        "</tr>\n",
        "<tr>\n",
        "  <th>Model:</th>                   <td>OLS</td>       <th>  Adj. R-squared:    </th> <td>   0.316</td>\n",
        "</tr>\n",
        "<tr>\n",
        "  <th>Method:</th>             <td>Least Squares</td>  <th>  F-statistic:       </th> <td>   13.48</td>\n",
        "</tr>\n",
        "<tr>\n",
        "  <th>Date:</th>             <td>Thu, 09 Oct 2014</td> <th>  Prob (F-statistic):</th>  <td>0.00110</td>\n",
        "</tr>\n",
        "<tr>\n",
        "  <th>Time:</th>                 <td>14:06:46</td>     <th>  Log-Likelihood:    </th> <td> -23.980</td>\n",
        "</tr>\n",
        "<tr>\n",
        "  <th>No. Observations:</th>      <td>    28</td>      <th>  AIC:               </th> <td>   51.96</td>\n",
        "</tr>\n",
        "<tr>\n",
        "  <th>Df Residuals:</th>          <td>    26</td>      <th>  BIC:               </th> <td>   54.63</td>\n",
        "</tr>\n",
        "<tr>\n",
        "  <th>Df Model:</th>              <td>     1</td>      <th>                     </th>     <td> </td>   \n",
        "</tr>\n",
        "</table>\n",
        "<table class=\"simpletable\">\n",
        "<tr>\n",
        "      <td></td>         <th>coef</th>     <th>std err</th>      <th>t</th>      <th>P>|t|</th> <th>[95.0% Conf. Int.]</th> \n",
        "</tr>\n",
        "<tr>\n",
        "  <th>Intercept</th> <td>  -21.3692</td> <td>    5.833</td> <td>   -3.663</td> <td> 0.001</td> <td>  -33.360    -9.378</td>\n",
        "</tr>\n",
        "<tr>\n",
        "  <th>minRMSE</th>   <td>    0.6703</td> <td>    0.183</td> <td>    3.671</td> <td> 0.001</td> <td>    0.295     1.046</td>\n",
        "</tr>\n",
        "</table>\n",
        "<table class=\"simpletable\">\n",
        "<tr>\n",
        "  <th>Omnibus:</th>       <td> 0.314</td> <th>  Durbin-Watson:     </th> <td>   1.905</td>\n",
        "</tr>\n",
        "<tr>\n",
        "  <th>Prob(Omnibus):</th> <td> 0.855</td> <th>  Jarque-Bera (JB):  </th> <td>   0.108</td>\n",
        "</tr>\n",
        "<tr>\n",
        "  <th>Skew:</th>          <td> 0.147</td> <th>  Prob(JB):          </th> <td>   0.947</td>\n",
        "</tr>\n",
        "<tr>\n",
        "  <th>Kurtosis:</th>      <td> 2.920</td> <th>  Cond. No.          </th> <td>1.67e+03</td>\n",
        "</tr>\n",
        "</table>"
       ],
       "metadata": {},
       "output_type": "pyout",
       "prompt_number": 42,
       "text": [
        "<class 'statsmodels.iolib.summary.Summary'>\n",
        "\"\"\"\n",
        "                            OLS Regression Results                            \n",
        "==============================================================================\n",
        "Dep. Variable:                    obs   R-squared:                       0.341\n",
        "Model:                            OLS   Adj. R-squared:                  0.316\n",
        "Method:                 Least Squares   F-statistic:                     13.48\n",
        "Date:                Thu, 09 Oct 2014   Prob (F-statistic):            0.00110\n",
        "Time:                        14:06:46   Log-Likelihood:                -23.980\n",
        "No. Observations:                  28   AIC:                             51.96\n",
        "Df Residuals:                      26   BIC:                             54.63\n",
        "Df Model:                           1                                         \n",
        "==============================================================================\n",
        "                 coef    std err          t      P>|t|      [95.0% Conf. Int.]\n",
        "------------------------------------------------------------------------------\n",
        "Intercept    -21.3692      5.833     -3.663      0.001       -33.360    -9.378\n",
        "minRMSE        0.6703      0.183      3.671      0.001         0.295     1.046\n",
        "==============================================================================\n",
        "Omnibus:                        0.314   Durbin-Watson:                   1.905\n",
        "Prob(Omnibus):                  0.855   Jarque-Bera (JB):                0.108\n",
        "Skew:                           0.147   Prob(JB):                        0.947\n",
        "Kurtosis:                       2.920   Cond. No.                     1.67e+03\n",
        "==============================================================================\n",
        "\n",
        "Warnings:\n",
        "[1] The condition number is large, 1.67e+03. This might indicate that there are\n",
        "strong multicollinearity or other numerical problems.\n",
        "\"\"\""
       ]
      }
     ],
     "prompt_number": 42
    }
   ],
   "metadata": {}
  }
 ]
}