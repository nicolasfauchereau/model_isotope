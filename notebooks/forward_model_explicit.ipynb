{
 "metadata": {
  "name": ""
 },
 "nbformat": 3,
 "nbformat_minor": 0,
 "worksheets": [
  {
   "cells": [
    {
     "cell_type": "markdown",
     "metadata": {},
     "source": [
      "# Forward eco-physiological modelling of $\\delta O_{18}$ composition in Kauri tree rings"
     ]
    },
    {
     "cell_type": "markdown",
     "metadata": {},
     "source": [
      "<dif style=\"font-size:125%\">\n",
      "\n",
      "This [IPython](www.ipython.org) notebook accompanies the paper:  \n",
      "    \n",
      "**Stable oxygen isotope signatures of early season wood in Agathis Australis (*Kauri*) tree-ring earlywood: Preliminary results and prospects for palaeoclimate reconstructions**\n",
      "\n",
      "By *Andrew M. Lorrey, Tom H. Brookman, Michael N. Evans, Nicolas C. Fauchereau, Alison Criscitiello, Greg Eisheid, Anthony M. Fowler, Travis Horton and Daniel P. Schrag*\n",
      "\n",
      "Submitted to *Journal of Geophysical Research - Biogeosciences*, December 2013.\n",
      "\n",
      "Instructions regarding the installation of the necessary libraries and on how to run this notebook are provided in the **README.md** file, located in the main directory. \n",
      "\n",
      "All code and data is available on github at: \n",
      "\n",
      "[http://www.bitbucket.org/nicolasf/model-isotope](http://www.bitbucket.org/nicolasf/model-isotope)\n",
      "\n",
      "<hr size=5>"
     ]
    },
    {
     "cell_type": "markdown",
     "metadata": {},
     "source": [
      "### The line below makes sure the graphics are displayed inline in the notebook "
     ]
    },
    {
     "cell_type": "code",
     "collapsed": false,
     "input": [
      "%matplotlib inline"
     ],
     "language": "python",
     "metadata": {},
     "outputs": [],
     "prompt_number": 34
    },
    {
     "cell_type": "markdown",
     "metadata": {},
     "source": [
      "### This import the required libraries (see instructions in the README.md file)"
     ]
    },
    {
     "cell_type": "code",
     "collapsed": false,
     "input": [
      "import os\n",
      "from math import exp\n",
      "from itertools import product\n",
      "import numpy as np\n",
      "import pandas as pd\n",
      "from matplotlib import pyplot as plt"
     ],
     "language": "python",
     "metadata": {},
     "outputs": [],
     "prompt_number": 15
    },
    {
     "cell_type": "markdown",
     "metadata": {},
     "source": [
      "### Defines the path where to find the csv files "
     ]
    },
    {
     "cell_type": "code",
     "collapsed": false,
     "input": [
      "dpath = '../excel'"
     ],
     "language": "python",
     "metadata": {},
     "outputs": [],
     "prompt_number": 22
    },
    {
     "cell_type": "markdown",
     "metadata": {},
     "source": [
      "### Defines the path where to save the figures"
     ]
    },
    {
     "cell_type": "code",
     "collapsed": false,
     "input": [
      "fpath = '../figures'"
     ],
     "language": "python",
     "metadata": {},
     "outputs": [],
     "prompt_number": 23
    },
    {
     "cell_type": "markdown",
     "metadata": {},
     "source": [
      "### Below is a small function to convert degrees Celsius to Kelvin \n"
     ]
    },
    {
     "cell_type": "code",
     "collapsed": false,
     "input": [
      "def C2K(T):\n",
      "    \"\"\"\n",
      "    conversion celsius to Kelvin\n",
      "    \"\"\"\n",
      "    return T + 273.16"
     ],
     "language": "python",
     "metadata": {},
     "outputs": [],
     "prompt_number": 18
    },
    {
     "cell_type": "markdown",
     "metadata": {},
     "source": [
      "### STEP 1: Define the parameter space of the model\n",
      "<hr size=5>"
     ]
    },
    {
     "cell_type": "markdown",
     "metadata": {},
     "source": [
      "<dif style=\"font-size:125%\">\n",
      "\n",
      "**Each parameter entering the calculations of $\\delta 18_{O}$ can be defined as :**  \n",
      "> + ```np.linspace(min, max, steps)``` creates ```steps``` values between ```min``` (included) and ```max``` (not included)  \n",
      "> + ```[value,]``` A real value (e.g. 0.015), brackets around and comma **are importants**  \n",
      "> + ```[value1,value2,...]``` A list of specific real values to test \n",
      "\n",
      "Commented lines start with ```#``` (the keyboard shortcut ```<ctrl-/>``` (```<command-/>``` on mac) toggles commented lines)\n",
      "\n",
      "A brief description of each parameter is provided below: \n",
      "\n",
      "+ **gs_l** is the stomatal conductance \n",
      "+ **leaf_width_l** is the leaf width, accepted values for Kauri is 0.015 m.\n",
      "+ **d_source_H2O_l** is ...\n",
      "+ **fract_through_stomata_l** is the \n",
      "+ **fract_through_boundary_layer_l** is ...\n",
      "+ **eff_length_l** is ...\n",
      "+ **C_l** is ..\n",
      "+ **C_O_fract_l** is .. \n",
      "+ **Dcel_Dom_l** is ..\n",
      "+ **prop_exc_l** is ..\n",
      "+ **prop_Xylem_l** is ..\n",
      "+ **PAR_l** is the **P**hotosynthetic **A**ctive **R**adiation, in units of $\\mu mol.m^{-2}.s^{-1}$\n"
     ]
    },
    {
     "cell_type": "code",
     "collapsed": false,
     "input": [
      "### ===========================================================================\n",
      "### define the parameter space here \n",
      "#gs_l = [0.25,]\n",
      "gs_l = np.linspace(0.063,0.35,10)\n",
      "leaf_width_l= [0.015,]\n",
      "d_source_H2O_l = [-5.17,]\n",
      "fract_through_stomata_l = [32,]\n",
      "fract_through_boundary_layer_l = [28,]\n",
      "# **eff_length** is the effective length at a minimum is double the average distance for a stoma to the central vein. For kauri, the avg distance is 0.0035m.  \n",
      "# Thus, the minimum for this variable is about 0.0077m.  Untested theory however suggests at least 2 orders of magnitude for the avg distance,\n",
      "# so 0.35m\n",
      "#eff_length_l = [0.0077,]\n",
      "eff_length_l = np.linspace(0.0035,0.166,10)\n",
      "C_l = [5.55e4,]\n",
      "# #### Constants for calculations of $\\Delta$ cellulose and $\\Delta$ leaf\n",
      "C_O_fract_l = [27,]\n",
      "Dcel_Dom_l = [9,]\n",
      "prop_exc_l = np.linspace(0.3,0.5,10)\n",
      "#prop_exc_l = [0.45,]\n",
      "prop_Xylem_l = [0.56,]\n",
      "PAR_l = np.linspace(200,1000,10)\n",
      "### ==========================================================================="
     ],
     "language": "python",
     "metadata": {},
     "outputs": [],
     "prompt_number": 38
    },
    {
     "cell_type": "code",
     "collapsed": false,
     "input": [],
     "language": "python",
     "metadata": {},
     "outputs": []
    },
    {
     "cell_type": "markdown",
     "metadata": {},
     "source": [
      "### Reads the inputs (relative humidity, air temperature, pressure, windspeed) from the csv file"
     ]
    },
    {
     "cell_type": "code",
     "collapsed": false,
     "input": [
      "inputs = pd.read_csv(os.path.join(dpath,'inputs.csv'), index_col = 0)"
     ],
     "language": "python",
     "metadata": {},
     "outputs": [],
     "prompt_number": 24
    },
    {
     "cell_type": "code",
     "collapsed": false,
     "input": [
      "inputs.head()"
     ],
     "language": "python",
     "metadata": {},
     "outputs": [
      {
       "html": [
        "<div style=\"max-height:1000px;max-width:1500px;overflow:auto;\">\n",
        "<table border=\"1\" class=\"dataframe\">\n",
        "  <thead>\n",
        "    <tr style=\"text-align: right;\">\n",
        "      <th></th>\n",
        "      <th>Rh</th>\n",
        "      <th>Air T</th>\n",
        "      <th>Pressure</th>\n",
        "      <th>windspeed</th>\n",
        "    </tr>\n",
        "    <tr>\n",
        "      <th>Year</th>\n",
        "      <th></th>\n",
        "      <th></th>\n",
        "      <th></th>\n",
        "      <th></th>\n",
        "    </tr>\n",
        "  </thead>\n",
        "  <tbody>\n",
        "    <tr>\n",
        "      <th>2009</th>\n",
        "      <td> 84.40</td>\n",
        "      <td> 14.27</td>\n",
        "      <td> 1015.3</td>\n",
        "      <td> 5.4</td>\n",
        "    </tr>\n",
        "    <tr>\n",
        "      <th>2008</th>\n",
        "      <td> 79.80</td>\n",
        "      <td> 14.63</td>\n",
        "      <td> 1018.3</td>\n",
        "      <td> 5.3</td>\n",
        "    </tr>\n",
        "    <tr>\n",
        "      <th>2007</th>\n",
        "      <td> 78.40</td>\n",
        "      <td> 14.43</td>\n",
        "      <td> 1017.1</td>\n",
        "      <td> 4.9</td>\n",
        "    </tr>\n",
        "    <tr>\n",
        "      <th>2006</th>\n",
        "      <td> 81.25</td>\n",
        "      <td> 14.80</td>\n",
        "      <td> 1018.7</td>\n",
        "      <td> 5.4</td>\n",
        "    </tr>\n",
        "    <tr>\n",
        "      <th>2005</th>\n",
        "      <td> 81.30</td>\n",
        "      <td> 15.07</td>\n",
        "      <td> 1016.2</td>\n",
        "      <td> 4.9</td>\n",
        "    </tr>\n",
        "  </tbody>\n",
        "</table>\n",
        "</div>"
       ],
       "metadata": {},
       "output_type": "pyout",
       "prompt_number": 26,
       "text": [
        "         Rh  Air T  Pressure  windspeed\n",
        "Year                                   \n",
        "2009  84.40  14.27    1015.3        5.4\n",
        "2008  79.80  14.63    1018.3        5.3\n",
        "2007  78.40  14.43    1017.1        4.9\n",
        "2006  81.25  14.80    1018.7        5.4\n",
        "2005  81.30  15.07    1016.2        4.9"
       ]
      }
     ],
     "prompt_number": 26
    },
    {
     "cell_type": "markdown",
     "metadata": {},
     "source": [
      "### Reads the ```observed``` values of $\\delta 18_{0}$ "
     ]
    },
    {
     "cell_type": "code",
     "collapsed": false,
     "input": [
      "obs = pd.read_csv(os.path.join(dpath,'observed_tree_rings.csv'), index_col=0)"
     ],
     "language": "python",
     "metadata": {},
     "outputs": [],
     "prompt_number": 27
    },
    {
     "cell_type": "markdown",
     "metadata": {},
     "source": [
      "### Multiply by the standard deviation and add the mean to get the $\\delta 18_{O}$ values"
     ]
    },
    {
     "cell_type": "code",
     "collapsed": false,
     "input": [
      "obs['raw'] = (obs['av']*1.73) + 31.82"
     ],
     "language": "python",
     "metadata": {},
     "outputs": [],
     "prompt_number": 10
    },
    {
     "cell_type": "markdown",
     "metadata": {},
     "source": [
      "### Generate the parameter space "
     ]
    },
    {
     "cell_type": "code",
     "collapsed": false,
     "input": [
      "parameter_space = product(gs_l,leaf_width_l,d_source_H2O_l,fract_through_stomata_l,fract_through_boundary_layer_l,\\\n",
      "                          eff_length_l,C_l,C_O_fract_l,Dcel_Dom_l,prop_exc_l,prop_Xylem_l, PAR_l)\n",
      "\n",
      "parameter_space = list(parameter_space)"
     ],
     "language": "python",
     "metadata": {},
     "outputs": [],
     "prompt_number": 11
    },
    {
     "cell_type": "markdown",
     "metadata": {},
     "source": [
      "### Below the main loops (over inputs and over parameter space) are implemented: *Do not* modify anything here"
     ]
    },
    {
     "cell_type": "code",
     "collapsed": false,
     "input": [
      "### ===========================================================================\n",
      "\n",
      "l = []\n",
      "\n",
      "for index in xrange(len(inputs)): \n",
      "\n",
      "    ### ===========================================================================\n",
      "    ### loops over the inputs \n",
      "    rh, airtemp, pressure, windspeed = inputs.irow(index)\n",
      "\n",
      "    param_outputs= [] \n",
      "\n",
      "    ### ===========================================================================\n",
      "    ### start the loop over the parameter space \n",
      "    for parameters in parameter_space: \n",
      "        gs,leaf_width,d_source_H2O,fract_through_stomata,fract_through_boundary_layer,\\\n",
      "        eff_length,C,C_O_fract,Dcel_Dom,prop_exc,prop_Xylem, PAR = parameters\n",
      "\n",
      "        ### ===========================================================================\n",
      "        ### Energy balance calculations \n",
      "        rs = 1. / gs\n",
      "\n",
      "        r_times_b = 3.8 * (leaf_width**0.25)*(windspeed**(-0.5))\n",
      "\n",
      "        rb = 0.89 * r_times_b\n",
      "\n",
      "        gr = (4*0.98*(0.000000056703)*(C2K(airtemp)**3))/(29.2)\n",
      "\n",
      "        rBH = 1./((1./r_times_b)+gr)\n",
      "\n",
      "        Qtot = (PAR/4.6)*2\n",
      "\n",
      "        Qabs = 0.5 * Qtot\n",
      "\n",
      "        ### ===========================================================================\n",
      "        ### Calculating $\\epsilon$\n",
      "\n",
      "        lesstemp = airtemp - 1.\n",
      "\n",
      "        estemp = (6.13753 * exp(lesstemp * ((18.564 - (lesstemp/254.4)))/(lesstemp +255.57)))*100\n",
      "\n",
      "        lesstemp_K = C2K(lesstemp)\n",
      "\n",
      "        s = (((6.13753 * exp(airtemp * ((18.564 - (airtemp/254.4)))/(airtemp +255.57))))-estemp)\\\n",
      "        /(C2K(airtemp)-C2K(lesstemp))\n",
      "\n",
      "        smbar = 6.13753*(((airtemp+255.7)*(18.564 - (2*airtemp/254.4)) - airtemp*(18.564 - \\\n",
      "                            (airtemp/254.4)))/((airtemp+255.57)**2))*(exp(airtemp*(18.564 - \\\n",
      "                                                        (airtemp/254.4))/(airtemp + 255.57)))\n",
      "\n",
      "        epsilon = (smbar*44012)/(29.2*(pressure))\n",
      "\n",
      "        ### ===========================================================================\n",
      "        ### Calculating $\\frac{EA}{EI}$\n",
      "\n",
      "        ea = (rh / 100) * (6.13753 * exp(airtemp * ((18.564 - (airtemp/254.4)))/(airtemp +255.57)))\n",
      "\n",
      "        es = (6.13753 * exp(airtemp * ((18.564 - (airtemp/254.4)))/(airtemp +255.57)))\n",
      "\n",
      "        D = (((6.13753 * exp(airtemp * ((18.564 - (airtemp/254.4)))\\\n",
      "                             /(airtemp +255.57))))-ea)/pressure\n",
      "\n",
      "        temp_diff = (rBH*((Qabs*(rs+rb))-(44012*D)))/(29.2*(rs+rb+(epsilon*rBH)))\n",
      "\n",
      "        leaf_temp = airtemp + temp_diff\n",
      "\n",
      "        ei = (6.13753 * exp(leaf_temp * ((18.564 - (leaf_temp/254.4)))\\\n",
      "                            /(leaf_temp +255.57)))\n",
      "\n",
      "        leaf_temp_K = C2K(leaf_temp)\n",
      "\n",
      "        ea_ei = ea / ei\n",
      "\n",
      "        ### ===========================================================================\n",
      "        ### Calculating transpiration\n",
      "\n",
      "        transpiration = (epsilon * rBH * Qabs / 44012. + D) \\\n",
      "        / (rs + rb + epsilon * rBH)\n",
      "\n",
      "        ### ===========================================================================\n",
      "        ### Craig & Gordon parameters \n",
      "\n",
      "        d_water_vapour = d_source_H2O + -1*(2.644-3.206*(1000/C2K(airtemp))+\\\n",
      "                                            1.534*(1e6/(C2K(airtemp)*C2K(airtemp))))\n",
      "\n",
      "        ek = ((fract_through_stomata*1/gs)+(fract_through_boundary_layer*rb))/((1/gs)+rb)\n",
      "\n",
      "        e_star = 2.644-3.206*((1e3)/leaf_temp_K)+1.534*((10**6)/(leaf_temp_K**2))\n",
      "\n",
      "        dv = ((d_water_vapour/1e3)*(1+(d_source_H2O/1e3))+(d_source_H2O/1e3))*1e3\n",
      "\n",
      "        dv = ((d_water_vapour/1e3)*(1+(d_source_H2O/1e3))+(d_source_H2O/1e3))*1e3\n",
      "\n",
      "        de = ek+e_star+((d_water_vapour-ek)*ea_ei)\n",
      "\n",
      "        ### ===========================================================================\n",
      "        ### Estimating the Peclet effect \n",
      "\n",
      "        D_Peclet = 0.000000119*(exp(-(637/(leaf_temp_K-137))))\n",
      "\n",
      "        p_Peclet = (transpiration*eff_length)/(C*D_Peclet)\n",
      "\n",
      "        DL = (de*(1-exp(-1*p_Peclet)))/p_Peclet\n",
      "\n",
      "        dL = ((DL/1e3)*(1+(d_source_H2O/1e3))+(d_source_H2O/1e3))*1e3\n",
      "\n",
      "        ### ===========================================================================\n",
      "        ### Calculating $\\Delta$ cellulose and $\\Delta$ leaf\n",
      "\n",
      "        D_sucrose = DL + C_O_fract\n",
      "\n",
      "        D_cellulose = (DL*(1-(prop_exc*prop_Xylem)))+C_O_fract # only place where prop_ex appears\n",
      "\n",
      "        D_leaf = D_cellulose - Dcel_Dom\n",
      "\n",
      "        d_sucrose = ((D_sucrose/1e3)*(1+(d_source_H2O/1e3))+(d_source_H2O/1e3))*1e3\n",
      "\n",
      "        d_leaf = ((D_leaf/1e3)*(1+(d_source_H2O/1e3))+(d_source_H2O/1000))*1e3\n",
      "\n",
      "        ### ===========================================================================\n",
      "        ### OUTPUT = $\\Delta O_{18}$ in tree-rings cellulose\n",
      "\n",
      "        OUTPUT = ((D_cellulose/1e3)*(1+(d_source_H2O/1e3))+(d_source_H2O/1e3))*1e3\n",
      "\n",
      "        param_outputs.append(OUTPUT)\n",
      "\n",
      "    l.append(param_outputs)\n",
      "\n",
      "l = np.array(l)"
     ],
     "language": "python",
     "metadata": {},
     "outputs": [],
     "prompt_number": 12
    },
    {
     "cell_type": "markdown",
     "metadata": {},
     "source": [
      "### Normalize (subtracts the average, divides by the sample standard deviation) the outputs "
     ]
    },
    {
     "cell_type": "code",
     "collapsed": false,
     "input": [
      "mean_l = l.mean(0)\n",
      "\n",
      "std_l = l.std(0)\n",
      "\n",
      "l_s = (l - mean_l) / std_l"
     ],
     "language": "python",
     "metadata": {},
     "outputs": [],
     "prompt_number": 13
    },
    {
     "cell_type": "markdown",
     "metadata": {},
     "source": [
      "### Calculate correlation coefficients and find the maximum"
     ]
    },
    {
     "cell_type": "code",
     "collapsed": false,
     "input": [
      "R_coeff = []\n",
      "for i in np.arange(l_s.shape[1]):                                                                                                                                                                   \n",
      "    R_coeff.append(np.corrcoef(l_s[:,i], obs['av'].values.flatten())[0,1])\n",
      "R_coeff = np.array(R_coeff)\n",
      "maxR = np.argmax(R_coeff)"
     ],
     "language": "python",
     "metadata": {},
     "outputs": [],
     "prompt_number": 14
    },
    {
     "cell_type": "markdown",
     "metadata": {},
     "source": [
      "### Now finds the parameters that minimize the root mean square error (${RMSE=\\sqrt{\\frac{1}{n}\\sum_{t=1}^{n}{(observed_{t}-modelled_{t})^2}}}{}$)"
     ]
    },
    {
     "cell_type": "code",
     "collapsed": false,
     "input": [
      "### ===========================================================================\n",
      "RMSE = []\n",
      "for i in np.arange(l.shape[1]): \n",
      "    RMSE.append(np.sqrt((obs['raw'] - l[:,i])**2).mean())                                                                                                                                                 \n",
      "RMSE = np.array(RMSE)\n",
      "minRMSE = np.argmin(RMSE)"
     ],
     "language": "python",
     "metadata": {},
     "outputs": [],
     "prompt_number": 16
    },
    {
     "cell_type": "markdown",
     "metadata": {},
     "source": [
      "### Find the corresponding parameters in the parameter space"
     ]
    },
    {
     "cell_type": "code",
     "collapsed": false,
     "input": [
      "#parameter_space = np.array(parameter_space)\n",
      "\n",
      "optimal_params_R = parameter_space[maxR]\n",
      "optimal_params_RMSE = parameter_space[minRMSE]"
     ],
     "language": "python",
     "metadata": {},
     "outputs": [],
     "prompt_number": 17
    },
    {
     "cell_type": "markdown",
     "metadata": {},
     "source": [
      "### Print the results: best set of parameters that respectively minimize (maximize) the RMSE (Pearson's R)"
     ]
    },
    {
     "cell_type": "code",
     "collapsed": false,
     "input": [
      "results = \"\"\"\n",
      "The Maximum R value ({0:<4.2f}) is obtained for: \n",
      "gs = {1[0]:<5.2f}\n",
      "leaf_width = {1[1]:<6.4f}\n",
      "d_source_H2O = {1[2]:<5.2f}\n",
      "fract_through_stomata = {1[3]:<5.2f}\n",
      "fract_through_boundary_layer = {1[4]:<5.2f}\n",
      "eff_length = {1[5]:<6.4f}\n",
      "C = {1[6]:<5.2f}\n",
      "C_O_fract = {1[7]:<5.2f}\n",
      "Dcel_Dom = {1[8]:<5.2f}\n",
      "prop_exc = {1[9]:<5.2f}\n",
      "prop_Xylem = {1[10]:<5.2f}\n",
      "PAR = {1[11]:<5.2f}\n",
      "\n",
      "The corresponding RMSE. is = {2:<5.2f} (max: {3:<5.2f})\n",
      "\"\"\".format(R_coeff[maxR],optimal_params_R,RMSE[maxR],RMSE.max())\n",
      "\n",
      "print(results)         "
     ],
     "language": "python",
     "metadata": {},
     "outputs": [
      {
       "ename": "NameError",
       "evalue": "name 'optimal_params_R' is not defined",
       "output_type": "pyerr",
       "traceback": [
        "\u001b[1;31m---------------------------------------------------------------------------\u001b[0m\n\u001b[1;31mNameError\u001b[0m                                 Traceback (most recent call last)",
        "\u001b[1;32m<ipython-input-30-e96b9b16b4c9>\u001b[0m in \u001b[0;36m<module>\u001b[1;34m()\u001b[0m\n\u001b[0;32m     15\u001b[0m \u001b[1;33m\u001b[0m\u001b[0m\n\u001b[0;32m     16\u001b[0m \u001b[0mThe\u001b[0m \u001b[0mcorresponding\u001b[0m \u001b[0mRMSE\u001b[0m\u001b[1;33m.\u001b[0m \u001b[1;32mis\u001b[0m \u001b[1;33m=\u001b[0m \u001b[1;33m{\u001b[0m\u001b[1;36m2\u001b[0m\u001b[1;33m:\u001b[0m\u001b[1;33m<\u001b[0m\u001b[1;36m5.2\u001b[0m\u001b[0mf\u001b[0m\u001b[1;33m}\u001b[0m \u001b[1;33m(\u001b[0m\u001b[0mmax\u001b[0m\u001b[1;33m:\u001b[0m \u001b[1;33m{\u001b[0m\u001b[1;36m3\u001b[0m\u001b[1;33m:\u001b[0m\u001b[1;33m<\u001b[0m\u001b[1;36m5.2\u001b[0m\u001b[0mf\u001b[0m\u001b[1;33m}\u001b[0m\u001b[1;33m)\u001b[0m\u001b[1;33m\u001b[0m\u001b[0m\n\u001b[1;32m---> 17\u001b[1;33m \"\"\".format(R_coeff[maxR],optimal_params_R,RMSE[maxR],RMSE.max())\n\u001b[0m\u001b[0;32m     18\u001b[0m \u001b[1;33m\u001b[0m\u001b[0m\n\u001b[0;32m     19\u001b[0m \u001b[1;32mprint\u001b[0m\u001b[1;33m(\u001b[0m\u001b[0mresults\u001b[0m\u001b[1;33m)\u001b[0m\u001b[1;33m\u001b[0m\u001b[0m\n",
        "\u001b[1;31mNameError\u001b[0m: name 'optimal_params_R' is not defined"
       ]
      },
      {
       "output_type": "stream",
       "stream": "stderr",
       "text": [
        "ERROR: An unexpected error occurred while tokenizing input\n",
        "The following traceback may be corrupted or invalid\n",
        "The error message is: ('EOF in multi-line string', (1, 0))\n",
        "\n"
       ]
      }
     ],
     "prompt_number": 30
    },
    {
     "cell_type": "code",
     "collapsed": false,
     "input": [
      "results = \"\"\"\n",
      "The Minimum RMSE value ({0:<4.2f}) is obtained for: \n",
      "gs = {1[0]:<5.2f}\n",
      "leaf_width = {1[1]:<6.4f}\n",
      "d_source_H2O = {1[2]:<5.2f}\n",
      "fract_through_stomata = {1[3]:<5.2f}\n",
      "fract_through_boundary_layer = {1[4]:<5.2f}\n",
      "eff_length = {1[5]:<6.4f}\n",
      "C = {1[6]:<5.2f}\n",
      "C_O_fract = {1[7]:<5.2f}\n",
      "Dcel_Dom = {1[8]:<5.2f}\n",
      "prop_exc = {1[9]:<5.2f}\n",
      "prop_Xylem = {1[10]:<5.2f}\n",
      "PAR = {1[11]:<5.2f}\n",
      "\n",
      "The corresponding R. coeff. is = {2:<5.2f} (min: {3:<5.2f})\n",
      "\n",
      "\"\"\".format(RMSE[minRMSE],optimal_params_RMSE,R_coeff[minRMSE],R_coeff.min())\n",
      "\n",
      "print(results)         "
     ],
     "language": "python",
     "metadata": {},
     "outputs": [
      {
       "ename": "NameError",
       "evalue": "name 'RMSE' is not defined",
       "output_type": "pyerr",
       "traceback": [
        "\u001b[1;31m---------------------------------------------------------------------------\u001b[0m\n\u001b[1;31mNameError\u001b[0m                                 Traceback (most recent call last)",
        "\u001b[1;32m<ipython-input-31-8a0a849be3d3>\u001b[0m in \u001b[0;36m<module>\u001b[1;34m()\u001b[0m\n\u001b[0;32m     16\u001b[0m \u001b[0mThe\u001b[0m \u001b[0mcorresponding\u001b[0m \u001b[0mR\u001b[0m\u001b[1;33m.\u001b[0m \u001b[0mcoeff\u001b[0m\u001b[1;33m.\u001b[0m \u001b[1;32mis\u001b[0m \u001b[1;33m=\u001b[0m \u001b[1;33m{\u001b[0m\u001b[1;36m2\u001b[0m\u001b[1;33m:\u001b[0m\u001b[1;33m<\u001b[0m\u001b[1;36m5.2\u001b[0m\u001b[0mf\u001b[0m\u001b[1;33m}\u001b[0m \u001b[1;33m(\u001b[0m\u001b[0mmin\u001b[0m\u001b[1;33m:\u001b[0m \u001b[1;33m{\u001b[0m\u001b[1;36m3\u001b[0m\u001b[1;33m:\u001b[0m\u001b[1;33m<\u001b[0m\u001b[1;36m5.2\u001b[0m\u001b[0mf\u001b[0m\u001b[1;33m}\u001b[0m\u001b[1;33m)\u001b[0m\u001b[1;33m\u001b[0m\u001b[0m\n\u001b[0;32m     17\u001b[0m \u001b[1;33m\u001b[0m\u001b[0m\n\u001b[1;32m---> 18\u001b[1;33m \"\"\".format(RMSE[minRMSE],optimal_params_RMSE,R_coeff[minRMSE],R_coeff.min())\n\u001b[0m\u001b[0;32m     19\u001b[0m \u001b[1;33m\u001b[0m\u001b[0m\n\u001b[0;32m     20\u001b[0m \u001b[1;32mprint\u001b[0m\u001b[1;33m(\u001b[0m\u001b[0mresults\u001b[0m\u001b[1;33m)\u001b[0m\u001b[1;33m\u001b[0m\u001b[0m\n",
        "\u001b[1;31mNameError\u001b[0m: name 'RMSE' is not defined"
       ]
      },
      {
       "output_type": "stream",
       "stream": "stderr",
       "text": [
        "ERROR: An unexpected error occurred while tokenizing input\n",
        "The following traceback may be corrupted or invalid\n",
        "The error message is: ('EOF in multi-line string', (1, 0))\n",
        "\n"
       ]
      }
     ],
     "prompt_number": 31
    },
    {
     "cell_type": "markdown",
     "metadata": {},
     "source": [
      "### Creates the figures"
     ]
    },
    {
     "cell_type": "code",
     "collapsed": false,
     "input": [
      "### ===========================================================================\n",
      "### raw modelled values (possibly P-dimensional)\n",
      "f, ax = plt.subplots(figsize=(12,8))\n",
      "#ax.plot(inputs.index, l, color='coral', lw=1.5, zorder=2)\n",
      "ax.fill_between(inputs.index, l.min(1),l.max(1), color='0.7', lw=1.5, zorder=2)\n",
      "ax.plot(inputs.index, l[:,minRMSE], color='b', lw=3, label='best model (RMSE)')\n",
      "ax.plot(inputs.index, l[:,maxR], color='r', lw=3, label='best model (R)')\n",
      "ax.plot(obs.index, obs['raw'].values, color='k', lw=3, label='observations')\n",
      "ax.errorbar(obs.index, obs['raw'].values, yerr=obs['std'].values, fmt='o', color='k')\n",
      "ax.set_title('Raw data', fontsize=16)\n",
      "[x.set_fontsize(14) for x in ax.yaxis.get_ticklabels()]\n",
      "[x.set_fontsize(14) for x in ax.xaxis.get_ticklabels()]\n",
      "ax.legend(loc=0)\n",
      "ax.grid('on')\n",
      "f.savefig(os.path.join(fpath,'raw_modelled_delta18O.png'), bbox_inches='tight', dpi=200)\n",
      "plt.show()\n",
      "\n",
      "### ===========================================================================\n",
      "### normalized modelled values (possibly P-dimensional) and observed values \n",
      "f, ax = plt.subplots(figsize=(12,8))\n",
      "#ax.plot(inputs.index, l_s, color='coral', lw=1.5)\n",
      "ax.fill_between(inputs.index, l_s.min(1),l_s.max(1), color='0.7', zorder=2)\n",
      "ax.plot(obs.index, obs['av'].values, color='k', lw=3, label='observations')\n",
      "ax.plot(inputs.index, l_s[:,maxR], color='r', lw=3, label='best model (R)')\n",
      "ax.plot(inputs.index, l_s[:,minRMSE], color='b', lw=3, label='best model (RMSE)')\n",
      "ax.errorbar(obs.index, obs['av'].values, yerr=obs['std'].values, fmt='o', color='k')\n",
      "ax.legend(loc=0)\n",
      "[x.set_fontsize(14) for x in ax.yaxis.get_ticklabels()]\n",
      "[x.set_fontsize(14) for x in ax.xaxis.get_ticklabels()]\n",
      "\n",
      "ax.set_title('normalized data:\\n modelled and observed $\\delta O_{18}$', fontsize=16)\n",
      "#ax.text(2006,2.5,'R=%4.2f' % (np.corrcoef(l_s.flatten(),obs['av'].values)[0,1]))\n",
      "ax.grid('on')\n",
      "f.savefig(os.path.join(fpath,'normalized_modelled_delta18O.png'), bbox_inches='tight', dpi=200)\n",
      "plt.show()"
     ],
     "language": "python",
     "metadata": {},
     "outputs": [
      {
       "ename": "NameError",
       "evalue": "name 'minRMSE' is not defined",
       "output_type": "pyerr",
       "traceback": [
        "\u001b[1;31m---------------------------------------------------------------------------\u001b[0m\n\u001b[1;31mNameError\u001b[0m                                 Traceback (most recent call last)",
        "\u001b[1;32m<ipython-input-39-600f8ef99b49>\u001b[0m in \u001b[0;36m<module>\u001b[1;34m()\u001b[0m\n\u001b[0;32m      4\u001b[0m \u001b[1;31m#ax.plot(inputs.index, l, color='coral', lw=1.5, zorder=2)\u001b[0m\u001b[1;33m\u001b[0m\u001b[1;33m\u001b[0m\u001b[0m\n\u001b[0;32m      5\u001b[0m \u001b[0max\u001b[0m\u001b[1;33m.\u001b[0m\u001b[0mfill_between\u001b[0m\u001b[1;33m(\u001b[0m\u001b[0minputs\u001b[0m\u001b[1;33m.\u001b[0m\u001b[0mindex\u001b[0m\u001b[1;33m,\u001b[0m \u001b[0ml\u001b[0m\u001b[1;33m.\u001b[0m\u001b[0mmin\u001b[0m\u001b[1;33m(\u001b[0m\u001b[1;36m1\u001b[0m\u001b[1;33m)\u001b[0m\u001b[1;33m,\u001b[0m\u001b[0ml\u001b[0m\u001b[1;33m.\u001b[0m\u001b[0mmax\u001b[0m\u001b[1;33m(\u001b[0m\u001b[1;36m1\u001b[0m\u001b[1;33m)\u001b[0m\u001b[1;33m,\u001b[0m \u001b[0mcolor\u001b[0m\u001b[1;33m=\u001b[0m\u001b[1;34m'0.7'\u001b[0m\u001b[1;33m,\u001b[0m \u001b[0mlw\u001b[0m\u001b[1;33m=\u001b[0m\u001b[1;36m1.5\u001b[0m\u001b[1;33m,\u001b[0m \u001b[0mzorder\u001b[0m\u001b[1;33m=\u001b[0m\u001b[1;36m2\u001b[0m\u001b[1;33m)\u001b[0m\u001b[1;33m\u001b[0m\u001b[0m\n\u001b[1;32m----> 6\u001b[1;33m \u001b[0max\u001b[0m\u001b[1;33m.\u001b[0m\u001b[0mplot\u001b[0m\u001b[1;33m(\u001b[0m\u001b[0minputs\u001b[0m\u001b[1;33m.\u001b[0m\u001b[0mindex\u001b[0m\u001b[1;33m,\u001b[0m \u001b[0ml\u001b[0m\u001b[1;33m[\u001b[0m\u001b[1;33m:\u001b[0m\u001b[1;33m,\u001b[0m\u001b[0mminRMSE\u001b[0m\u001b[1;33m]\u001b[0m\u001b[1;33m,\u001b[0m \u001b[0mcolor\u001b[0m\u001b[1;33m=\u001b[0m\u001b[1;34m'b'\u001b[0m\u001b[1;33m,\u001b[0m \u001b[0mlw\u001b[0m\u001b[1;33m=\u001b[0m\u001b[1;36m3\u001b[0m\u001b[1;33m,\u001b[0m \u001b[0mlabel\u001b[0m\u001b[1;33m=\u001b[0m\u001b[1;34m'best model (RMSE)'\u001b[0m\u001b[1;33m)\u001b[0m\u001b[1;33m\u001b[0m\u001b[0m\n\u001b[0m\u001b[0;32m      7\u001b[0m \u001b[0max\u001b[0m\u001b[1;33m.\u001b[0m\u001b[0mplot\u001b[0m\u001b[1;33m(\u001b[0m\u001b[0minputs\u001b[0m\u001b[1;33m.\u001b[0m\u001b[0mindex\u001b[0m\u001b[1;33m,\u001b[0m \u001b[0ml\u001b[0m\u001b[1;33m[\u001b[0m\u001b[1;33m:\u001b[0m\u001b[1;33m,\u001b[0m\u001b[0mmaxR\u001b[0m\u001b[1;33m]\u001b[0m\u001b[1;33m,\u001b[0m \u001b[0mcolor\u001b[0m\u001b[1;33m=\u001b[0m\u001b[1;34m'r'\u001b[0m\u001b[1;33m,\u001b[0m \u001b[0mlw\u001b[0m\u001b[1;33m=\u001b[0m\u001b[1;36m3\u001b[0m\u001b[1;33m,\u001b[0m \u001b[0mlabel\u001b[0m\u001b[1;33m=\u001b[0m\u001b[1;34m'best model (R)'\u001b[0m\u001b[1;33m)\u001b[0m\u001b[1;33m\u001b[0m\u001b[0m\n\u001b[0;32m      8\u001b[0m \u001b[0max\u001b[0m\u001b[1;33m.\u001b[0m\u001b[0mplot\u001b[0m\u001b[1;33m(\u001b[0m\u001b[0mobs\u001b[0m\u001b[1;33m.\u001b[0m\u001b[0mindex\u001b[0m\u001b[1;33m,\u001b[0m \u001b[0mobs\u001b[0m\u001b[1;33m[\u001b[0m\u001b[1;34m'raw'\u001b[0m\u001b[1;33m]\u001b[0m\u001b[1;33m.\u001b[0m\u001b[0mvalues\u001b[0m\u001b[1;33m,\u001b[0m \u001b[0mcolor\u001b[0m\u001b[1;33m=\u001b[0m\u001b[1;34m'k'\u001b[0m\u001b[1;33m,\u001b[0m \u001b[0mlw\u001b[0m\u001b[1;33m=\u001b[0m\u001b[1;36m3\u001b[0m\u001b[1;33m,\u001b[0m \u001b[0mlabel\u001b[0m\u001b[1;33m=\u001b[0m\u001b[1;34m'observations'\u001b[0m\u001b[1;33m)\u001b[0m\u001b[1;33m\u001b[0m\u001b[0m\n",
        "\u001b[1;31mNameError\u001b[0m: name 'minRMSE' is not defined"
       ]
      },
      {
       "metadata": {},
       "output_type": "display_data",
       "png": "[encoded data removed]",
       "text": [
        "<matplotlib.figure.Figure at 0xc1cfdd0>"
       ]
      }
     ],
     "prompt_number": 39
    },
    {
     "cell_type": "code",
     "collapsed": false,
     "input": [
      "caption=\"\"\"\n",
      "a) The black curve represents the observation along with the error bars, in units of ?? (Delta O18). The Solid blue curve is \n",
      "the best model, optimized over the parameter space for minimizing the Root Mean Squared Error (RMSE) between the modelled \n",
      "and observed time-series. The solid red curve is the best model, optimized over the parameter space for maximizing the \n",
      "Pearson's correlation coefficient between the modelled andobserved time-series. \n",
      "\n",
      "The range between the minimum and maximum values of the modelled time-series for each time-step is shaded in gray.\n",
      "\n",
      "b) same as in a but normalized time-series are displayed\"\"\"\n",
      "\n",
      "print(caption)"
     ],
     "language": "python",
     "metadata": {},
     "outputs": [
      {
       "output_type": "stream",
       "stream": "stdout",
       "text": [
        "\n",
        "a) The black curve represents the observation along with the error bars, in units of ?? (Delta O18). The Solid blue curve is \n",
        "the best model, optimized over the parameter space for minimizing the Root Mean Squared Error (RMSE) between the modelled \n",
        "and observed time-series. The solid red curve is the best model, optimized over the parameter space for maximizing the \n",
        "Pearson's correlation coefficient between the modelled andobserved time-series. \n",
        "\n",
        "The range between the minimum and maximum values of the modelled time-series for each time-step is shaded in gray.\n",
        "\n",
        "b) same as in a but normalized time-series are displayed\n"
       ]
      }
     ],
     "prompt_number": 28
    },
    {
     "cell_type": "code",
     "collapsed": false,
     "input": [],
     "language": "python",
     "metadata": {},
     "outputs": [],
     "prompt_number": 45
    },
    {
     "cell_type": "code",
     "collapsed": false,
     "input": [],
     "language": "python",
     "metadata": {},
     "outputs": []
    }
   ],
   "metadata": {}
  }
 ]
}