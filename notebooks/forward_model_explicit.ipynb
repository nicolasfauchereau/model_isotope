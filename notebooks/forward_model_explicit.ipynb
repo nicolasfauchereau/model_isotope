{
 "metadata": {
  "name": ""
 },
 "nbformat": 3,
 "nbformat_minor": 0,
 "worksheets": [
  {
   "cells": [
    {
     "cell_type": "markdown",
     "metadata": {},
     "source": [
      "# Forward eco-physiological modelling of $\\Delta O_{18}$ in tree rings"
     ]
    },
    {
     "cell_type": "markdown",
     "metadata": {},
     "source": [
      "forward version"
     ]
    },
    {
     "cell_type": "code",
     "collapsed": false,
     "input": [
      "def C2K(T):\n",
      "    \"\"\"\n",
      "    conversion celsius to Kelvin\n",
      "    \"\"\"\n",
      "    return T + 273.16"
     ],
     "language": "python",
     "metadata": {},
     "outputs": [],
     "prompt_number": 3
    },
    {
     "cell_type": "markdown",
     "metadata": {},
     "source": [
      "### inputs"
     ]
    },
    {
     "cell_type": "code",
     "collapsed": false,
     "input": [
      "airtemp = 14.2666666667\n",
      "windspeed = 5.4\n",
      "rh = 84.4\n",
      "pressure = 1015.3333333333\n",
      "gs = 0.25\n",
      "leaf_width = 0.015\n",
      "PAR = 925"
     ],
     "language": "python",
     "metadata": {},
     "outputs": [],
     "prompt_number": 2
    },
    {
     "cell_type": "markdown",
     "metadata": {},
     "source": [
      "### energy balance calculations "
     ]
    },
    {
     "cell_type": "code",
     "collapsed": false,
     "input": [
      "rs = 1. / gs"
     ],
     "language": "python",
     "metadata": {},
     "outputs": [],
     "prompt_number": 6
    },
    {
     "cell_type": "code",
     "collapsed": false,
     "input": [
      "rb = 3.8 * (leaf_width**0.25)*(windspeed**(-0.5))"
     ],
     "language": "python",
     "metadata": {},
     "outputs": [],
     "prompt_number": 25
    },
    {
     "cell_type": "code",
     "collapsed": false,
     "input": [
      "gr = (4*0.98*(0.000000056703)*(C2K(airtemp)**3))/(29.2)"
     ],
     "language": "python",
     "metadata": {},
     "outputs": [],
     "prompt_number": 27
    },
    {
     "cell_type": "code",
     "collapsed": false,
     "input": [
      "rBH = 1./((1./rb)+gr)"
     ],
     "language": "python",
     "metadata": {},
     "outputs": [],
     "prompt_number": 29
    },
    {
     "cell_type": "code",
     "collapsed": false,
     "input": [
      "Qtot = (PAR/4.6)*2"
     ],
     "language": "python",
     "metadata": {},
     "outputs": [],
     "prompt_number": 32
    },
    {
     "cell_type": "code",
     "collapsed": false,
     "input": [
      "Qabs = 0.5 * Qtot"
     ],
     "language": "python",
     "metadata": {},
     "outputs": [],
     "prompt_number": 34
    },
    {
     "cell_type": "markdown",
     "metadata": {},
     "source": [
      "### Calculating $\\epsilon$"
     ]
    },
    {
     "cell_type": "code",
     "collapsed": false,
     "input": [
      "lesstemp = airtemp - 1"
     ],
     "language": "python",
     "metadata": {},
     "outputs": [],
     "prompt_number": 36
    },
    {
     "cell_type": "code",
     "collapsed": false,
     "input": [
      "estemp = (6.13753 * exp(lesstemp * ((18.564 - (lesstemp/254.4)))/(lesstemp +255.57)))*100."
     ],
     "language": "python",
     "metadata": {},
     "outputs": [],
     "prompt_number": 38
    },
    {
     "cell_type": "code",
     "collapsed": false,
     "input": [
      "s = (((6.13753 * exp(airtemp * ((18.564 - (airtemp/254.4)))/(airtemp +255.57))))-estemp)/(C2K(airtemp)-C2K(lesstemp))"
     ],
     "language": "python",
     "metadata": {},
     "outputs": [],
     "prompt_number": 41
    },
    {
     "cell_type": "code",
     "collapsed": false,
     "input": [
      "smbar = 6.13753*(((airtemp+255.7)*(18.564 - (2*airtemp/254.4)) - airtemp*(18.564 - \\\n",
      "                    (airtemp/254.4)))/((airtemp+255.57)**2))*(exp(airtemp*(18.564 - (airtemp/254.4))/(airtemp + 255.57)))"
     ],
     "language": "python",
     "metadata": {},
     "outputs": [],
     "prompt_number": 48
    },
    {
     "cell_type": "code",
     "collapsed": false,
     "input": [
      "epsilon = (smbar*44012)/(29.2*(pressure))"
     ],
     "language": "python",
     "metadata": {},
     "outputs": [],
     "prompt_number": 49
    },
    {
     "cell_type": "code",
     "collapsed": false,
     "input": [
      "epsilon"
     ],
     "language": "python",
     "metadata": {},
     "outputs": [
      {
       "metadata": {},
       "output_type": "pyout",
       "prompt_number": 50,
       "text": [
        "1.5705189529981114"
       ]
      }
     ],
     "prompt_number": 50
    },
    {
     "cell_type": "markdown",
     "metadata": {},
     "source": [
      "### Calculating $\\frac{EA}{EI}$"
     ]
    },
    {
     "cell_type": "code",
     "collapsed": false,
     "input": [
      "ea = (rh / 100) * (6.13753 * exp(airtemp * ((18.564 - (airtemp/254.4)))/(airtemp +255.57)))"
     ],
     "language": "python",
     "metadata": {},
     "outputs": [],
     "prompt_number": 52
    },
    {
     "cell_type": "code",
     "collapsed": false,
     "input": [
      "D = (((6.13753 * exp(airtemp * ((18.564 - (airtemp/254.4)))/(airtemp +255.57))))-ea)/pressure"
     ],
     "language": "python",
     "metadata": {},
     "outputs": [],
     "prompt_number": 55
    },
    {
     "cell_type": "code",
     "collapsed": false,
     "input": [
      "leaf_temp = airtemp + (rBH * ((Qabs * (rs + rb)) - (44012. * D))) / (29.2 * (rs + rb + (epsilon * rBH)))"
     ],
     "language": "python",
     "metadata": {},
     "outputs": [],
     "prompt_number": 60
    },
    {
     "cell_type": "code",
     "collapsed": false,
     "input": [
      "leaf_temp_K = C2K(leaf_temp)"
     ],
     "language": "python",
     "metadata": {},
     "outputs": [],
     "prompt_number": 61
    },
    {
     "cell_type": "code",
     "collapsed": false,
     "input": [
      "leaf_temp_K"
     ],
     "language": "python",
     "metadata": {},
     "outputs": [
      {
       "metadata": {},
       "output_type": "pyout",
       "prompt_number": 62,
       "text": [
        "290.09411776105429"
       ]
      }
     ],
     "prompt_number": 62
    },
    {
     "cell_type": "markdown",
     "metadata": {},
     "source": [
      "### Calculating transpiration"
     ]
    },
    {
     "cell_type": "markdown",
     "metadata": {},
     "source": [
      "### Craig / Gordon parameters "
     ]
    },
    {
     "cell_type": "code",
     "collapsed": false,
     "input": [],
     "language": "python",
     "metadata": {},
     "outputs": []
    }
   ],
   "metadata": {}
  }
 ]
}