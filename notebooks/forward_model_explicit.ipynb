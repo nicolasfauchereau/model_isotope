{
 "metadata": {
  "name": "forward_model_explicit.ipynb"
 },
 "nbformat": 3,
 "nbformat_minor": 0,
 "worksheets": [
  {
   "cells": [
    {
     "cell_type": "markdown",
     "metadata": {},
     "source": [
      "# Forward eco-physiological modelling of $\\delta O_{18}$ in tree rings"
     ]
    },
    {
     "cell_type": "markdown",
     "metadata": {},
     "source": [
      "### Import the libraries we will need"
     ]
    },
    {
     "cell_type": "code",
     "collapsed": false,
     "input": [
      "%pylab inline"
     ],
     "language": "python",
     "metadata": {},
     "outputs": [
      {
       "output_type": "stream",
       "stream": "stdout",
       "text": [
        "\n",
        "Welcome to pylab, a matplotlib-based Python environment [backend: module://IPython.kernel.zmq.pylab.backend_inline].\n",
        "For more information, type 'help(pylab)'.\n"
       ]
      }
     ],
     "prompt_number": 2
    },
    {
     "cell_type": "code",
     "collapsed": false,
     "input": [
      "import os\n",
      "from math import exp\n",
      "from itertools import product\n",
      "import numpy as np\n",
      "import pandas as pd\n",
      "from matplotlib import pyplot as plt"
     ],
     "language": "python",
     "metadata": {},
     "outputs": [],
     "prompt_number": 3
    },
    {
     "cell_type": "markdown",
     "metadata": {},
     "source": [
      "### Define the path where to find the csv files (from your home directory) "
     ]
    },
    {
     "cell_type": "code",
     "collapsed": false,
     "input": [
      "dpath = 'research/NIWA/paleo/model-isotope/excel'\n",
      "\n",
      "dpath = os.path.join(os.environ['HOME'], dpath)"
     ],
     "language": "python",
     "metadata": {},
     "outputs": [],
     "prompt_number": 9
    },
    {
     "cell_type": "markdown",
     "metadata": {},
     "source": [
      "### Define the path where to save the figures (from your home directory)"
     ]
    },
    {
     "cell_type": "code",
     "collapsed": false,
     "input": [
      "fpath = 'research/NIWA/paleo/model-isotope/figures'\n",
      "\n",
      "fpath = os.path.join(os.environ['HOME'], fpath)"
     ],
     "language": "python",
     "metadata": {},
     "outputs": [],
     "prompt_number": 10
    },
    {
     "cell_type": "markdown",
     "metadata": {},
     "source": [
      "### Below is a small function to convert degrees Celsius to Kelvin \n"
     ]
    },
    {
     "cell_type": "code",
     "collapsed": false,
     "input": [
      "def C2K(T):\n",
      "    \"\"\"\n",
      "    conversion celsius to Kelvin\n",
      "    \"\"\"\n",
      "    return T + 273.16"
     ],
     "language": "python",
     "metadata": {},
     "outputs": [],
     "prompt_number": 11
    },
    {
     "cell_type": "markdown",
     "metadata": {},
     "source": [
      "### Define the parameter space of the model"
     ]
    },
    {
     "cell_type": "markdown",
     "metadata": {},
     "source": [
      "**Each parameter entering the calculations of $\\delta 18_{O}$ can be defined as :**  \n",
      "> + `np.linspace(min, max, steps)` creates steps values between min (included) and max (not included)\n",
      "> + `[value,]` A real value (e.g. 0.015), brackets around and comma **are important**\n",
      "> + `[value1,value2,...] A list of specific real values to test "
     ]
    },
    {
     "cell_type": "code",
     "collapsed": false,
     "input": [
      "### ===========================================================================\n",
      "### define the parameter space here \n",
      "gs_l = [0.25,]\n",
      "#gs_l = np.linspace(0.069,0.35,100)\n",
      "leaf_width_l= [0.015,]\n",
      "d_source_H2O_l = [-5.17,]\n",
      "fract_through_stomata_l = [32,]\n",
      "fract_through_boundary_layer_l = [28,]\n",
      "# **eff_length** is the effective length at a minimum is double the average distance for a stoma to the central vein. For kauri, the avg distance is 0.0035m.  \n",
      "# Thus, the minimum for this variable is about 0.0077m.  Untested theory however suggests at least 2 orders of magnitude for the avg distance,\n",
      "# so 0.35m\n",
      "eff_length_l = [0.0077,]\n",
      "C_l = [5.55e4,]\n",
      "# #### Constants for calculations of $\\Delta$ cellulose and $\\Delta$ leaf\n",
      "C_O_fract_l = [27,]\n",
      "Dcel_Dom_l = [9,]\n",
      "#prop_exc_l = np.linspace(0.25,0.65,100)\n",
      "prop_exc_l = [0.45,]\n",
      "#prop_Xylem_l = np.linspace(0.25,0.65,100)\n",
      "prop_Xylem_l = [0.56,]\n",
      "PAR_l = np.linspace(800,1000,100)\n",
      "### ==========================================================================="
     ],
     "language": "python",
     "metadata": {},
     "outputs": [],
     "prompt_number": 12
    },
    {
     "cell_type": "markdown",
     "metadata": {},
     "source": [
      "### Reads the inputs (relative humidity, air temperature, pressure, windspeed)"
     ]
    },
    {
     "cell_type": "code",
     "collapsed": false,
     "input": [
      "inputs = pd.read_csv(os.path.join(dpath,'inputs.csv'), index_col = 0)"
     ],
     "language": "python",
     "metadata": {},
     "outputs": [],
     "prompt_number": 13
    },
    {
     "cell_type": "markdown",
     "metadata": {},
     "source": [
      "### Reads the *observed* values of $\\delta 18_{0}$ "
     ]
    },
    {
     "cell_type": "code",
     "collapsed": false,
     "input": [
      "obs = pd.read_csv(os.path.join(dpath,'observed_tree_rings.csv'), index_col=0)"
     ],
     "language": "python",
     "metadata": {},
     "outputs": [],
     "prompt_number": 14
    },
    {
     "cell_type": "markdown",
     "metadata": {},
     "source": [
      "### Below the main loops (over inputs and over parameter space) are implemented: *Do not* modify anything here"
     ]
    },
    {
     "cell_type": "code",
     "collapsed": false,
     "input": [
      "### ===========================================================================\n",
      "\n",
      "l = []\n",
      "\n",
      "for index in xrange(len(inputs)): \n",
      "\n",
      "    ### ===========================================================================\n",
      "    ### create the iterator defining the parameter space for the model \n",
      "    parameter_space = product(gs_l,leaf_width_l,d_source_H2O_l,fract_through_stomata_l,fract_through_boundary_layer_l,eff_length_l,C_l,C_O_fract_l,Dcel_Dom_l,prop_exc_l,prop_Xylem_l, PAR_l)\n",
      "\n",
      "    rh, airtemp, pressure, windspeed = inputs.irow(index)\n",
      "\n",
      "    param_outputs= [] \n",
      "\n",
      "    ### ===========================================================================\n",
      "    ### start the loop over the parameter space \n",
      "    for parameters in parameter_space: \n",
      "        gs,leaf_width,d_source_H2O,fract_through_stomata,fract_through_boundary_layer,eff_length,C,C_O_fract,Dcel_Dom,prop_exc,prop_Xylem, PAR = parameters\n",
      "\n",
      "        ### ===========================================================================\n",
      "        ### Energy balance calculations \n",
      "        rs = 1. / gs\n",
      "\n",
      "        r_times_b = 3.8 * (leaf_width**0.25)*(windspeed**(-0.5))\n",
      "\n",
      "        rb = 0.89 * r_times_b\n",
      "\n",
      "        gr = (4*0.98*(0.000000056703)*(C2K(airtemp)**3))/(29.2)\n",
      "\n",
      "        rBH = 1./((1./r_times_b)+gr)\n",
      "\n",
      "        Qtot = (PAR/4.6)*2\n",
      "\n",
      "        Qabs = 0.5 * Qtot\n",
      "\n",
      "        ### ===========================================================================\n",
      "        ### Calculating $\\epsilon$\n",
      "\n",
      "        lesstemp = airtemp - 1.\n",
      "\n",
      "        estemp = (6.13753 * exp(lesstemp * ((18.564 - (lesstemp/254.4)))/(lesstemp +255.57)))*100\n",
      "\n",
      "        lesstemp_K = C2K(lesstemp)\n",
      "\n",
      "        s = (((6.13753 * exp(airtemp * ((18.564 - (airtemp/254.4)))/(airtemp +255.57))))-estemp)/(C2K(airtemp)-C2K(lesstemp))\n",
      "\n",
      "        smbar = 6.13753*(((airtemp+255.7)*(18.564 - (2*airtemp/254.4)) - airtemp*(18.564 - \\\n",
      "                            (airtemp/254.4)))/((airtemp+255.57)**2))*(exp(airtemp*(18.564 - \\\n",
      "                                                        (airtemp/254.4))/(airtemp + 255.57)))\n",
      "\n",
      "        epsilon = (smbar*44012)/(29.2*(pressure))\n",
      "\n",
      "        ### ===========================================================================\n",
      "        ### Calculating $\\frac{EA}{EI}$\n",
      "\n",
      "        ea = (rh / 100) * (6.13753 * exp(airtemp * ((18.564 - (airtemp/254.4)))/(airtemp +255.57)))\n",
      "\n",
      "        es = (6.13753 * exp(airtemp * ((18.564 - (airtemp/254.4)))/(airtemp +255.57)))\n",
      "\n",
      "        D = (((6.13753 * exp(airtemp * ((18.564 - (airtemp/254.4)))\\\n",
      "                             /(airtemp +255.57))))-ea)/pressure\n",
      "\n",
      "        temp_diff = (rBH*((Qabs*(rs+rb))-(44012*D)))/(29.2*(rs+rb+(epsilon*rBH)))\n",
      "\n",
      "        leaf_temp = airtemp + temp_diff\n",
      "\n",
      "        ei = (6.13753 * exp(leaf_temp * ((18.564 - (leaf_temp/254.4)))\\\n",
      "                            /(leaf_temp +255.57)))\n",
      "\n",
      "        leaf_temp_K = C2K(leaf_temp)\n",
      "\n",
      "        ea_ei = ea / ei\n",
      "\n",
      "        ### ===========================================================================\n",
      "        ### Calculating transpiration\n",
      "\n",
      "        transpiration = (epsilon * rBH * Qabs / 44012. + D) \\\n",
      "        / (rs + rb + epsilon * rBH)\n",
      "\n",
      "        ### ===========================================================================\n",
      "        ### Craig & Gordon parameters \n",
      "\n",
      "        d_water_vapour = d_source_H2O + -1*(2.644-3.206*(1000/C2K(airtemp))+\\\n",
      "                                            1.534*(1000000/(C2K(airtemp)*C2K(airtemp))))\n",
      "\n",
      "        ek = ((fract_through_stomata*1/gs)+(fract_through_boundary_layer*rb))/((1/gs)+rb)\n",
      "\n",
      "        e_star = 2.644-3.206*((10**3)/leaf_temp_K)+1.534*((10**6)/(leaf_temp_K**2))\n",
      "\n",
      "        dv = ((d_water_vapour/1000.)*(1+(d_source_H2O/1000))+(d_source_H2O/1000.))*1000.\n",
      "\n",
      "        dv = ((d_water_vapour/1000)*(1+(d_source_H2O/1000))+(d_source_H2O/1000))*1000\n",
      "\n",
      "        de = ek+e_star+((d_water_vapour-ek)*ea_ei)\n",
      "\n",
      "        ### ===========================================================================\n",
      "        ### Estimating the Peclet effect \n",
      "\n",
      "        D_Peclet = 0.000000119*(exp(-(637/(leaf_temp_K-137))))\n",
      "\n",
      "        p_Peclet = (transpiration*eff_length)/(C*D_Peclet)\n",
      "\n",
      "        DL = (de*(1-exp(-1*p_Peclet)))/p_Peclet\n",
      "\n",
      "        dL = ((DL/1000)*(1+(d_source_H2O/1000))+(d_source_H2O/1000))*1000\n",
      "\n",
      "        ### ===========================================================================\n",
      "        ### Calculating $\\Delta$ cellulose and $\\Delta$ leaf\n",
      "\n",
      "        D_sucrose = DL + C_O_fract\n",
      "\n",
      "        D_cellulose = (DL*(1-(prop_exc*prop_Xylem)))+C_O_fract\n",
      "\n",
      "        D_leaf = D_cellulose - Dcel_Dom\n",
      "\n",
      "        d_sucrose = ((D_sucrose/1000)*(1+(d_source_H2O/1000))+(d_source_H2O/1000))*1000\n",
      "\n",
      "        d_leaf = ((D_leaf/1000)*(1+(d_source_H2O/1000))+(d_source_H2O/1000))*1000\n",
      "\n",
      "        ### ===========================================================================\n",
      "        ### OUTPUT = $\\Delta O_{18}$ in tree-rings cellulose\n",
      "\n",
      "        OUTPUT = ((D_cellulose/1000)*(1+(d_source_H2O/1000))+(d_source_H2O/1000))*1000\n",
      "\n",
      "        param_outputs.append(OUTPUT)\n",
      "\n",
      "    l.append(param_outputs)\n",
      "\n",
      "l = np.array(l)"
     ],
     "language": "python",
     "metadata": {},
     "outputs": [],
     "prompt_number": 25
    },
    {
     "cell_type": "markdown",
     "metadata": {},
     "source": [
      "### Normalize (subtract the average, divide by the sample standard deviation) the outputs "
     ]
    },
    {
     "cell_type": "code",
     "collapsed": false,
     "input": [
      "mean_l = l.mean(0)\n",
      "\n",
      "std_l = l.std(0)\n",
      "\n",
      "l_s = (l - mean_l) / std_l"
     ],
     "language": "python",
     "metadata": {},
     "outputs": [],
     "prompt_number": 26
    },
    {
     "cell_type": "markdown",
     "metadata": {},
     "source": [
      "### Creates the figures"
     ]
    },
    {
     "cell_type": "code",
     "collapsed": false,
     "input": [
      "### ===========================================================================\n",
      "### raw modelled values (possibly P-dimensional)\n",
      "f, ax = plt.subplots(figsize=(10,6))\n",
      "ax.plot(inputs.index, l, color='r', lw=1.5)\n",
      "ax.set_title('Raw data')\n",
      "f.savefig(os.path.join(fpath,'raw_modelled_delta18O.png'), bbox_inches='tight', dpi=200)\n",
      "plt.close(f)\n",
      "\n",
      "### ===========================================================================\n",
      "### normalized modelled values (possibly P-dimensional) and observed values \n",
      "f, ax = plt.subplots(figsize=(12,8))\n",
      "ax.plot(inputs.index, l_s, color='coral', lw=1.5, label='model')\n",
      "ax.plot(obs.index, obs['av'].values, color='steelblue', lw=2, label='observations')\n",
      "ax.errorbar(obs.index, obs['av'].values, yerr=obs['std'].values, fmt='o', color='steelblue')\n",
      "ax.grid()\n",
      "ax.set_title('normalized data:\\n modelled and observed $\\delta O_{18}$', fontsize=14)\n",
      "#ax.text(2006,2.5,'R=%4.2f' % (np.corrcoef(l_s.flatten(),obs['av'].values)[0,1]))\n",
      "f.savefig(os.path.join(fpath,'normalized_modelled_delta18O.png'), bbox_inches='tight', dpi=200)\n",
      "plt.show()"
     ],
     "language": "python",
     "metadata": {},
     "outputs": [
      {
       "output_type": "display_data",
       "png": "[encoded data removed]",
       "text": [
        "<matplotlib.figure.Figure at 0x10f549350>"
       ]
      }
     ],
     "prompt_number": 28
    },
    {
     "cell_type": "code",
     "collapsed": false,
     "input": [],
     "language": "python",
     "metadata": {},
     "outputs": []
    }
   ],
   "metadata": {}
  }
 ]
}