{
 "metadata": {
  "name": ""
 },
 "nbformat": 3,
 "nbformat_minor": 0,
 "worksheets": [
  {
   "cells": [
    {
     "cell_type": "markdown",
     "metadata": {},
     "source": [
      "# Forward eco-physiological modelling of $\\Delta O_{18}$ in tree rings"
     ]
    },
    {
     "cell_type": "markdown",
     "metadata": {},
     "source": [
      "I am working backward using the excel spreadsheet as template  \n",
      "--- \n",
      "One starts with one year worth of values"
     ]
    },
    {
     "cell_type": "code",
     "collapsed": false,
     "input": [
      "airtemp = 14.2666666667\n",
      "windspeed = 5.4\n",
      "rh = 84.4\n",
      "pressure = 1015.3333333333"
     ],
     "language": "python",
     "metadata": {},
     "outputs": [],
     "prompt_number": 136
    },
    {
     "cell_type": "code",
     "collapsed": false,
     "input": [
      "### 9th level: \n",
      "\n",
      "+ E6\n",
      "+ E7\n",
      "+ E9\n",
      "+ K4\n",
      "+ K3\n",
      "+ B8\n",
      "+ H7"
     ],
     "language": "python",
     "metadata": {},
     "outputs": [
      {
       "metadata": {},
       "output_type": "pyout",
       "prompt_number": 137,
       "text": [
        "1.0579461763480946"
       ]
      }
     ],
     "prompt_number": 137
    },
    {
     "cell_type": "code",
     "collapsed": false,
     "input": [
      "E6 = 3.8 * (B5**0.25)*(B4**(-0.5))"
     ],
     "language": "python",
     "metadata": {},
     "outputs": [],
     "prompt_number": 203
    },
    {
     "cell_type": "code",
     "collapsed": false,
     "input": [
      "E7 = (4.*0.98*(0.000000056703)*(E3**3))/(29.2)"
     ],
     "language": "python",
     "metadata": {},
     "outputs": [],
     "prompt_number": 204
    },
    {
     "cell_type": "code",
     "collapsed": false,
     "input": [
      "E9 = (B9 / 4.6) * 2"
     ],
     "language": "python",
     "metadata": {},
     "outputs": [],
     "prompt_number": 205
    },
    {
     "cell_type": "code",
     "collapsed": false,
     "input": [
      "K4 = (6.13753 * exp(airtemp * ((18.564 - (airtemp/254.4)))/(airtemp +255.57)))"
     ],
     "language": "python",
     "metadata": {},
     "outputs": [],
     "prompt_number": 206
    },
    {
     "cell_type": "markdown",
     "metadata": {},
     "source": [
      "### 8th level:  \n",
      "\n",
      "+ E8\n",
      "+ E10 \n",
      "+ E4\n",
      "+ E5\n",
      "+ K6\n",
      "+ H8"
     ]
    },
    {
     "cell_type": "code",
     "collapsed": false,
     "input": [
      "E8 = 1. / ((1. / E6) + E7)"
     ],
     "language": "python",
     "metadata": {},
     "outputs": [],
     "prompt_number": 207
    },
    {
     "cell_type": "code",
     "collapsed": false,
     "input": [
      "E10 = E9 * 0.5"
     ],
     "language": "python",
     "metadata": {},
     "outputs": [],
     "prompt_number": 208
    },
    {
     "cell_type": "code",
     "collapsed": false,
     "input": [
      "E4 = 1. / B3"
     ],
     "language": "python",
     "metadata": {},
     "outputs": [],
     "prompt_number": 209
    },
    {
     "cell_type": "code",
     "collapsed": false,
     "input": [
      "E5 = 0.89 * E6"
     ],
     "language": "python",
     "metadata": {},
     "outputs": [],
     "prompt_number": 210
    },
    {
     "cell_type": "code",
     "collapsed": false,
     "input": [
      "K6 = (K4 - K3) / B8"
     ],
     "language": "python",
     "metadata": {},
     "outputs": [],
     "prompt_number": 211
    },
    {
     "cell_type": "code",
     "collapsed": false,
     "input": [
      "H8 = (H7 * 44012.) / (29.2 * (B8))"
     ],
     "language": "python",
     "metadata": {},
     "outputs": [],
     "prompt_number": 212
    },
    {
     "cell_type": "markdown",
     "metadata": {},
     "source": [
      "### 7th level:\n",
      "\n",
      "+ B5\n",
      "+ B4\n",
      "+ E3\n",
      "+ B9\n",
      "+ B6\n",
      "+ B7\n",
      "+ K8"
     ]
    },
    {
     "cell_type": "code",
     "collapsed": false,
     "input": [
      "B5 = 0.015"
     ],
     "language": "python",
     "metadata": {},
     "outputs": [],
     "prompt_number": 213
    },
    {
     "cell_type": "code",
     "collapsed": false,
     "input": [
      "B4 = windspeed"
     ],
     "language": "python",
     "metadata": {},
     "outputs": [],
     "prompt_number": 214
    },
    {
     "cell_type": "code",
     "collapsed": false,
     "input": [
      "E3 = airtemp + 273.16"
     ],
     "language": "python",
     "metadata": {},
     "outputs": [],
     "prompt_number": 215
    },
    {
     "cell_type": "code",
     "collapsed": false,
     "input": [
      "B9 = 925"
     ],
     "language": "python",
     "metadata": {},
     "outputs": [],
     "prompt_number": 216
    },
    {
     "cell_type": "code",
     "collapsed": false,
     "input": [
      "B6 = airtemp"
     ],
     "language": "python",
     "metadata": {},
     "outputs": [],
     "prompt_number": 217
    },
    {
     "cell_type": "code",
     "collapsed": false,
     "input": [
      "B7 = rh"
     ],
     "language": "python",
     "metadata": {},
     "outputs": [],
     "prompt_number": 218
    },
    {
     "cell_type": "code",
     "collapsed": false,
     "input": [
      "K8 = (E8*((E10*(E4+E5))-(44012*K6)))/(29.2*(E4+E5+(H8*E8)))"
     ],
     "language": "python",
     "metadata": {},
     "outputs": [],
     "prompt_number": 219
    },
    {
     "cell_type": "markdown",
     "metadata": {},
     "source": [
      "### 6th level: \n",
      "\n",
      "+ E6\n",
      "+ E7\n",
      "+ E9\n",
      "+ B3\n",
      "+ K4\n",
      "+ K3\n",
      "+ B8\n",
      "+ H7\n",
      "+ K9\n",
      "+ A44"
     ]
    },
    {
     "cell_type": "code",
     "collapsed": false,
     "input": [
      "E6 = 3.8 * (B5**0.25)*(windspeed**(-0.5))"
     ],
     "language": "python",
     "metadata": {},
     "outputs": [],
     "prompt_number": 220
    },
    {
     "cell_type": "code",
     "collapsed": false,
     "input": [
      "E7 = (4 * 0.98 * (0.000000056703) * (E3**3)) / (29.2)"
     ],
     "language": "python",
     "metadata": {},
     "outputs": [],
     "prompt_number": 221
    },
    {
     "cell_type": "code",
     "collapsed": false,
     "input": [
      "E9 = (B9 / 4.6) * 2"
     ],
     "language": "python",
     "metadata": {},
     "outputs": [],
     "prompt_number": 222
    },
    {
     "cell_type": "code",
     "collapsed": false,
     "input": [
      "B3 = 0.25"
     ],
     "language": "python",
     "metadata": {},
     "outputs": [],
     "prompt_number": 223
    },
    {
     "cell_type": "code",
     "collapsed": false,
     "input": [
      "K4 = (6.13753 * exp(airtemp * ((18.564 - (airtemp/254.4)))/(airtemp + 255.57)))"
     ],
     "language": "python",
     "metadata": {},
     "outputs": [],
     "prompt_number": 224
    },
    {
     "cell_type": "code",
     "collapsed": false,
     "input": [
      "K3 = (rh/100)*K4"
     ],
     "language": "python",
     "metadata": {},
     "outputs": [],
     "prompt_number": 225
    },
    {
     "cell_type": "code",
     "collapsed": false,
     "input": [
      "B8 = pressure"
     ],
     "language": "python",
     "metadata": {},
     "outputs": [],
     "prompt_number": 226
    },
    {
     "cell_type": "code",
     "collapsed": false,
     "input": [
      "H7 = 6.13753*(((B6+255.7)*(18.564 - (2*B6/254.4)) - B6*(18.564 - (B6/254.4)))/((B6+255.57)**2))*(exp(B6*(18.564 - (B6/254.4))/(B6 + 255.57)))"
     ],
     "language": "python",
     "metadata": {},
     "outputs": [],
     "prompt_number": 227
    },
    {
     "cell_type": "code",
     "collapsed": false,
     "input": [
      "K9 = airtemp + K8"
     ],
     "language": "python",
     "metadata": {},
     "outputs": [],
     "prompt_number": 228
    },
    {
     "cell_type": "code",
     "collapsed": false,
     "input": [
      "A44  = airtemp + 273.16"
     ],
     "language": "python",
     "metadata": {},
     "outputs": [],
     "prompt_number": 229
    },
    {
     "cell_type": "markdown",
     "metadata": {},
     "source": [
      "### fifth level: \n",
      "\n",
      "+ E8\n",
      "+ E10\n",
      "+ E4\n",
      "+ E5\n",
      "+ K6\n",
      "+ H8\n",
      "+ B17\n",
      "+ B18\n",
      "+ K10\n",
      "+ B16\n",
      "+ K5\n",
      "+ D45 "
     ]
    },
    {
     "cell_type": "code",
     "collapsed": false,
     "input": [
      "E8 = 1/((1 / E6) + E7)"
     ],
     "language": "python",
     "metadata": {},
     "outputs": [],
     "prompt_number": 230
    },
    {
     "cell_type": "code",
     "collapsed": false,
     "input": [
      "E10 = E9*0.5"
     ],
     "language": "python",
     "metadata": {},
     "outputs": [],
     "prompt_number": 231
    },
    {
     "cell_type": "code",
     "collapsed": false,
     "input": [
      "E4 = 1 / B3"
     ],
     "language": "python",
     "metadata": {},
     "outputs": [],
     "prompt_number": 232
    },
    {
     "cell_type": "code",
     "collapsed": false,
     "input": [
      "E5 = 0.89 * E6"
     ],
     "language": "python",
     "metadata": {},
     "outputs": [],
     "prompt_number": 233
    },
    {
     "cell_type": "code",
     "collapsed": false,
     "input": [
      "K6 = (K4 - K3) / B8"
     ],
     "language": "python",
     "metadata": {},
     "outputs": [],
     "prompt_number": 234
    },
    {
     "cell_type": "code",
     "collapsed": false,
     "input": [
      "H8 = (H7 * 44012) / (29.2 * (B8))"
     ],
     "language": "python",
     "metadata": {},
     "outputs": [],
     "prompt_number": 235
    },
    {
     "cell_type": "code",
     "collapsed": false,
     "input": [
      "B17 = 32"
     ],
     "language": "python",
     "metadata": {},
     "outputs": [],
     "prompt_number": 236
    },
    {
     "cell_type": "code",
     "collapsed": false,
     "input": [
      "B18 = 28"
     ],
     "language": "python",
     "metadata": {},
     "outputs": [],
     "prompt_number": 237
    },
    {
     "cell_type": "code",
     "collapsed": false,
     "input": [
      "K10 = K9 + 273.16"
     ],
     "language": "python",
     "metadata": {},
     "outputs": [],
     "prompt_number": 238
    },
    {
     "cell_type": "code",
     "collapsed": false,
     "input": [
      "B16 = -5.17"
     ],
     "language": "python",
     "metadata": {},
     "outputs": [],
     "prompt_number": 239
    },
    {
     "cell_type": "code",
     "collapsed": false,
     "input": [
      "K5 = (6.13753 * exp(K9 * ((18.564 - (K9/254.4)))/(K9 +255.57)))"
     ],
     "language": "python",
     "metadata": {},
     "outputs": [],
     "prompt_number": 240
    },
    {
     "cell_type": "code",
     "collapsed": false,
     "input": [
      "D45 = -1 * (2.644-3.206*(1000/A44)+1.534*(1000000/(A44*A44)))"
     ],
     "language": "python",
     "metadata": {},
     "outputs": [],
     "prompt_number": 241
    },
    {
     "cell_type": "markdown",
     "metadata": {},
     "source": [
      "### fourth level: \n",
      "\n",
      "+ B6\n",
      "+ K8\n",
      "+ E15\n",
      "+ E16\n",
      "+ B15\n",
      "+ K7\n",
      "+ N3\n",
      "+ B22\n",
      "+ B23\n",
      "+ B24"
     ]
    },
    {
     "cell_type": "code",
     "collapsed": false,
     "input": [
      "B6 = airtemp"
     ],
     "language": "python",
     "metadata": {},
     "outputs": [],
     "prompt_number": 242
    },
    {
     "cell_type": "code",
     "collapsed": false,
     "input": [
      "K8 = (E8 * ((E10 * (E4 + E5)) - (44012 * K6))) / (29.2 * (E4 + E5 + (H8 * E8)))"
     ],
     "language": "python",
     "metadata": {},
     "outputs": [],
     "prompt_number": 243
    },
    {
     "cell_type": "code",
     "collapsed": false,
     "input": [
      "E15 = ((B17 * E4) + (B18 * E5)) / (E4 + E5)"
     ],
     "language": "python",
     "metadata": {},
     "outputs": [],
     "prompt_number": 244
    },
    {
     "cell_type": "code",
     "collapsed": false,
     "input": [
      "E16 = 2.644 - 3.206 * ((10**3) / K10) + 1.534 * ((10**6) / (K10**2))"
     ],
     "language": "python",
     "metadata": {},
     "outputs": [],
     "prompt_number": 245
    },
    {
     "cell_type": "code",
     "collapsed": false,
     "input": [
      "B15 = B16 + D45"
     ],
     "language": "python",
     "metadata": {},
     "outputs": [],
     "prompt_number": 246
    },
    {
     "cell_type": "code",
     "collapsed": false,
     "input": [
      "K7 = K3 / K5"
     ],
     "language": "python",
     "metadata": {},
     "outputs": [],
     "prompt_number": 247
    },
    {
     "cell_type": "code",
     "collapsed": false,
     "input": [
      "N3 = (H8 * E8 * E10 / 44012. + K6)/( E4 + E5 + H8 * E8)"
     ],
     "language": "python",
     "metadata": {},
     "outputs": [],
     "prompt_number": 248
    },
    {
     "cell_type": "code",
     "collapsed": false,
     "input": [
      "B22 = 0.0077 ## effective length"
     ],
     "language": "python",
     "metadata": {},
     "outputs": [],
     "prompt_number": 249
    },
    {
     "cell_type": "code",
     "collapsed": false,
     "input": [
      "B23 = 55.5 * 1000"
     ],
     "language": "python",
     "metadata": {},
     "outputs": [],
     "prompt_number": 250
    },
    {
     "cell_type": "code",
     "collapsed": false,
     "input": [
      "B24 = 0.000000119 * (exp( - (637. / (K10 - 137.))))"
     ],
     "language": "python",
     "metadata": {},
     "outputs": [],
     "prompt_number": 251
    },
    {
     "cell_type": "markdown",
     "metadata": {},
     "source": [
      "### third level:\n",
      "\n",
      "+ K9\n",
      "+ E18 \n",
      "+ E22\n",
      "+ E23\n",
      "+ B28"
     ]
    },
    {
     "cell_type": "code",
     "collapsed": false,
     "input": [
      "K9 = B6 + K8"
     ],
     "language": "python",
     "metadata": {},
     "outputs": [],
     "prompt_number": 252
    },
    {
     "cell_type": "code",
     "collapsed": false,
     "input": [
      "E18 = E15+E16+((B15-E15)*K7)"
     ],
     "language": "python",
     "metadata": {},
     "outputs": [],
     "prompt_number": 253
    },
    {
     "cell_type": "code",
     "collapsed": false,
     "input": [
      "E22 = (N3*B22)/(B23*B24)"
     ],
     "language": "python",
     "metadata": {},
     "outputs": [],
     "prompt_number": 254
    },
    {
     "cell_type": "code",
     "collapsed": false,
     "input": [
      "E23 = (E18 * (1-exp(-1.*E22))) / E22"
     ],
     "language": "python",
     "metadata": {},
     "outputs": [],
     "prompt_number": 255
    },
    {
     "cell_type": "code",
     "collapsed": false,
     "input": [
      "B28 = 27"
     ],
     "language": "python",
     "metadata": {},
     "outputs": [],
     "prompt_number": 256
    },
    {
     "cell_type": "markdown",
     "metadata": {},
     "source": [
      "### Second level:  \n",
      "\n",
      "+ K10\n",
      "+ E23\n",
      "+ B30\n",
      "+ B31\n",
      "+ E28"
     ]
    },
    {
     "cell_type": "code",
     "collapsed": false,
     "input": [
      "K10 = K9+273.16"
     ],
     "language": "python",
     "metadata": {},
     "outputs": [],
     "prompt_number": 257
    },
    {
     "cell_type": "code",
     "collapsed": false,
     "input": [
      "E23 = (E18 * (1 - exp(-1*E22))) / E22"
     ],
     "language": "python",
     "metadata": {},
     "outputs": [],
     "prompt_number": 258
    },
    {
     "cell_type": "code",
     "collapsed": false,
     "input": [
      "B30 = 0.45"
     ],
     "language": "python",
     "metadata": {},
     "outputs": [],
     "prompt_number": 259
    },
    {
     "cell_type": "code",
     "collapsed": false,
     "input": [
      "B31 = 0.56"
     ],
     "language": "python",
     "metadata": {},
     "outputs": [],
     "prompt_number": 260
    },
    {
     "cell_type": "code",
     "collapsed": false,
     "input": [
      "E28 = E23 + B28"
     ],
     "language": "python",
     "metadata": {},
     "outputs": [],
     "prompt_number": 261
    },
    {
     "cell_type": "markdown",
     "metadata": {},
     "source": [
      "### first level:  \n",
      "\n",
      "+ B16\n",
      "+ E30"
     ]
    },
    {
     "cell_type": "code",
     "collapsed": false,
     "input": [
      "B16 = 2.644-3.206*((10**3)/K10)+1.534*((10**6)/(K10**2))"
     ],
     "language": "python",
     "metadata": {},
     "outputs": [],
     "prompt_number": 262
    },
    {
     "cell_type": "code",
     "collapsed": false,
     "input": [
      "E30 = (E23*(1-(B30*B31)))+B28"
     ],
     "language": "python",
     "metadata": {},
     "outputs": [],
     "prompt_number": 263
    },
    {
     "cell_type": "markdown",
     "metadata": {},
     "source": [
      "### output"
     ]
    },
    {
     "cell_type": "code",
     "collapsed": false,
     "input": [
      "output = ((E30/1000)*(1+(B16/1000))+(B16/1000))*1000"
     ],
     "language": "python",
     "metadata": {},
     "outputs": [],
     "prompt_number": 264
    },
    {
     "cell_type": "code",
     "collapsed": false,
     "input": [
      "output"
     ],
     "language": "python",
     "metadata": {},
     "outputs": [
      {
       "metadata": {},
       "output_type": "pyout",
       "prompt_number": 265,
       "text": [
        "42.924381356124371"
       ]
      }
     ],
     "prompt_number": 265
    },
    {
     "cell_type": "code",
     "collapsed": false,
     "input": [],
     "language": "python",
     "metadata": {},
     "outputs": [],
     "prompt_number": 265
    },
    {
     "cell_type": "code",
     "collapsed": false,
     "input": [],
     "language": "python",
     "metadata": {},
     "outputs": [],
     "prompt_number": 265
    },
    {
     "cell_type": "code",
     "collapsed": false,
     "input": [],
     "language": "python",
     "metadata": {},
     "outputs": [],
     "prompt_number": 265
    },
    {
     "cell_type": "code",
     "collapsed": false,
     "input": [],
     "language": "python",
     "metadata": {},
     "outputs": [],
     "prompt_number": 265
    },
    {
     "cell_type": "code",
     "collapsed": false,
     "input": [],
     "language": "python",
     "metadata": {},
     "outputs": []
    }
   ],
   "metadata": {}
  }
 ]
}